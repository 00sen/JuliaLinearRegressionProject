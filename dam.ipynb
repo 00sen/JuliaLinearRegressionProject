{
 "cells": [
  {
   "cell_type": "markdown",
   "id": "530b2005-bcf8-4b9c-be6d-9f676e5185da",
   "metadata": {
    "jp-MarkdownHeadingCollapsed": true
   },
   "source": [
    "# Imports"
   ]
  },
  {
   "cell_type": "code",
   "execution_count": 167,
   "id": "0ad0ccd3-0046-4d11-8396-4ba48e0a8641",
   "metadata": {},
   "outputs": [],
   "source": [
    "using CSV\n",
    "using DataFrames\n",
    "using Statistics\n",
    "using Dates"
   ]
  },
  {
   "cell_type": "markdown",
   "id": "9e2629f3-40eb-48e1-b171-c2b0334e29f7",
   "metadata": {},
   "source": [
    "# Cleaning the data"
   ]
  },
  {
   "cell_type": "markdown",
   "id": "b19032d4-541d-43f8-a789-a62a9fa38386",
   "metadata": {},
   "source": [
    "## Eliminating double comas \",,\" after wrong column\n",
    "Changing them to \",\""
   ]
  },
  {
   "cell_type": "code",
   "execution_count": 181,
   "id": "0639345a-8f13-4ca3-86a7-20f512cbb830",
   "metadata": {},
   "outputs": [
    {
     "data": {
      "text/html": [
       "<div><div style = \"float: left;\"><span>12×7 DataFrame</span></div><div style = \"clear: both;\"></div></div><div class = \"data-frame\" style = \"overflow-x: scroll;\"><table class = \"data-frame\" style = \"margin-bottom: 6px;\"><thead><tr class = \"header\"><th class = \"rowNumber\" style = \"font-weight: bold; text-align: right;\">Row</th><th style = \"text-align: left;\">variable</th><th style = \"text-align: left;\">mean</th><th style = \"text-align: left;\">min</th><th style = \"text-align: left;\">median</th><th style = \"text-align: left;\">max</th><th style = \"text-align: left;\">nmissing</th><th style = \"text-align: left;\">eltype</th></tr><tr class = \"subheader headerLastRow\"><th class = \"rowNumber\" style = \"font-weight: bold; text-align: right;\"></th><th title = \"Symbol\" style = \"text-align: left;\">Symbol</th><th title = \"Union{Nothing, Float64}\" style = \"text-align: left;\">Union…</th><th title = \"Any\" style = \"text-align: left;\">Any</th><th title = \"Union{Nothing, Float64}\" style = \"text-align: left;\">Union…</th><th title = \"Any\" style = \"text-align: left;\">Any</th><th title = \"Int64\" style = \"text-align: left;\">Int64</th><th title = \"Type\" style = \"text-align: left;\">Type</th></tr></thead><tbody><tr><td class = \"rowNumber\" style = \"font-weight: bold; text-align: right;\">1</td><td style = \"text-align: left;\">Nro.</td><td style = \"text-align: left;\">320.709</td><td style = \"text-align: left;\">2</td><td style = \"text-align: left;\">322.5</td><td style = \"text-align: left;\">638</td><td style = \"text-align: right;\">0</td><td style = \"text-align: left;\">Int64</td></tr><tr><td class = \"rowNumber\" style = \"font-weight: bold; text-align: right;\">2</td><td style = \"text-align: left;\">Vehículo</td><td style = \"text-align: left;\">105.566</td><td style = \"text-align: left;\">101</td><td style = \"text-align: left;\">105.0</td><td style = \"text-align: left;\">110</td><td style = \"text-align: right;\">0</td><td style = \"text-align: left;\">Int64</td></tr><tr><td class = \"rowNumber\" style = \"font-weight: bold; text-align: right;\">3</td><td style = \"text-align: left;\">Odómetro</td><td style = \"text-align: left;\">8.12749e5</td><td style = \"text-align: left;\">436624</td><td style = \"text-align: left;\">1.0034e6</td><td style = \"text-align: left;\">1142707</td><td style = \"text-align: right;\">0</td><td style = \"text-align: left;\">Int64</td></tr><tr><td class = \"rowNumber\" style = \"font-weight: bold; text-align: right;\">4</td><td style = \"text-align: left;\">Horómetro</td><td style = \"text-align: left;\">40.0</td><td style = \"text-align: left;\">4</td><td style = \"text-align: left;\">33.0</td><td style = \"text-align: left;\">86</td><td style = \"text-align: right;\">618</td><td style = \"text-align: left;\">Union{Missing, Int64}</td></tr><tr><td class = \"rowNumber\" style = \"font-weight: bold; text-align: right;\">5</td><td style = \"text-align: left;\">Fecha</td><td style = \"font-style: italic; text-align: left;\"></td><td style = \"text-align: left;\">01/abr./2024 12:39:00</td><td style = \"font-style: italic; text-align: left;\"></td><td style = \"text-align: left;\">31/may./2024 1:54:00</td><td style = \"text-align: right;\">0</td><td style = \"text-align: left;\">String31</td></tr><tr><td class = \"rowNumber\" style = \"font-weight: bold; text-align: right;\">6</td><td style = \"text-align: left;\">Tanqueo Full</td><td style = \"font-style: italic; text-align: left;\"></td><td style = \"text-align: left;\">N</td><td style = \"font-style: italic; text-align: left;\"></td><td style = \"text-align: left;\">S</td><td style = \"text-align: right;\">0</td><td style = \"text-align: left;\">String1</td></tr><tr><td class = \"rowNumber\" style = \"font-weight: bold; text-align: right;\">7</td><td style = \"text-align: left;\">Costo por Volumen</td><td style = \"font-style: italic; text-align: left;\"></td><td style = \"text-align: left;\">23,24</td><td style = \"font-style: italic; text-align: left;\"></td><td style = \"text-align: left;\">26,97</td><td style = \"text-align: right;\">0</td><td style = \"text-align: left;\">String7</td></tr><tr><td class = \"rowNumber\" style = \"font-weight: bold; text-align: right;\">8</td><td style = \"text-align: left;\">Cant.</td><td style = \"font-style: italic; text-align: left;\"></td><td style = \"text-align: left;\">100</td><td style = \"font-style: italic; text-align: left;\"></td><td style = \"text-align: left;\">99,13</td><td style = \"text-align: right;\">0</td><td style = \"text-align: left;\">String7</td></tr><tr><td class = \"rowNumber\" style = \"font-weight: bold; text-align: right;\">9</td><td style = \"text-align: left;\">Unidad</td><td style = \"font-style: italic; text-align: left;\"></td><td style = \"text-align: left;\">Litros</td><td style = \"font-style: italic; text-align: left;\"></td><td style = \"text-align: left;\">Litros</td><td style = \"text-align: right;\">0</td><td style = \"text-align: left;\">String7</td></tr><tr><td class = \"rowNumber\" style = \"font-weight: bold; text-align: right;\">10</td><td style = \"text-align: left;\">Costo Total</td><td style = \"font-style: italic; text-align: left;\"></td><td style = \"text-align: left;\">1000,45</td><td style = \"font-style: italic; text-align: left;\"></td><td style = \"text-align: left;\">9999</td><td style = \"text-align: right;\">0</td><td style = \"text-align: left;\">String7</td></tr><tr><td class = \"rowNumber\" style = \"font-weight: bold; text-align: right;\">11</td><td style = \"text-align: left;\">Tipo</td><td style = \"font-style: italic; text-align: left;\"></td><td style = \"text-align: left;\">DIESEL</td><td style = \"font-style: italic; text-align: left;\"></td><td style = \"text-align: left;\">DIESEL</td><td style = \"text-align: right;\">0</td><td style = \"text-align: left;\">String7</td></tr><tr><td class = \"rowNumber\" style = \"font-weight: bold; text-align: right;\">12</td><td style = \"text-align: left;\">Column12</td><td style = \"font-style: italic; text-align: left;\"></td><td style = \"font-style: italic; text-align: left;\"></td><td style = \"font-style: italic; text-align: left;\"></td><td style = \"font-style: italic; text-align: left;\"></td><td style = \"text-align: right;\">632</td><td style = \"text-align: left;\">Missing</td></tr></tbody></table></div>"
      ],
      "text/latex": [
       "\\begin{tabular}{r|cccccc}\n",
       "\t& variable & mean & min & median & max & \\\\\n",
       "\t\\hline\n",
       "\t& Symbol & Union… & Any & Union… & Any & \\\\\n",
       "\t\\hline\n",
       "\t1 & Nro. & 320.709 & 2 & 322.5 & 638 & $\\dots$ \\\\\n",
       "\t2 & Vehículo & 105.566 & 101 & 105.0 & 110 & $\\dots$ \\\\\n",
       "\t3 & Odómetro & 8.12749e5 & 436624 & 1.0034e6 & 1142707 & $\\dots$ \\\\\n",
       "\t4 & Horómetro & 40.0 & 4 & 33.0 & 86 & $\\dots$ \\\\\n",
       "\t5 & Fecha &  & 01/abr./2024 12:39:00 &  & 31/may./2024 1:54:00 & $\\dots$ \\\\\n",
       "\t6 & Tanqueo Full &  & N &  & S & $\\dots$ \\\\\n",
       "\t7 & Costo por Volumen &  & 23,24 &  & 26,97 & $\\dots$ \\\\\n",
       "\t8 & Cant. &  & 100 &  & 99,13 & $\\dots$ \\\\\n",
       "\t9 & Unidad &  & Litros &  & Litros & $\\dots$ \\\\\n",
       "\t10 & Costo Total &  & 1000,45 &  & 9999 & $\\dots$ \\\\\n",
       "\t11 & Tipo &  & DIESEL &  & DIESEL & $\\dots$ \\\\\n",
       "\t12 & Column12 &  &  &  &  & $\\dots$ \\\\\n",
       "\\end{tabular}\n"
      ],
      "text/plain": [
       "\u001b[1m12×7 DataFrame\u001b[0m\n",
       "\u001b[1m Row \u001b[0m│\u001b[1m variable          \u001b[0m\u001b[1m mean      \u001b[0m\u001b[1m min                   \u001b[0m\u001b[1m median   \u001b[0m\u001b[1m max     \u001b[0m ⋯\n",
       "     │\u001b[90m Symbol            \u001b[0m\u001b[90m Union…    \u001b[0m\u001b[90m Any                   \u001b[0m\u001b[90m Union…   \u001b[0m\u001b[90m Any     \u001b[0m ⋯\n",
       "─────┼──────────────────────────────────────────────────────────────────────────\n",
       "   1 │ Nro.               320.709    2                      322.5     638      ⋯\n",
       "   2 │ Vehículo           105.566    101                    105.0     110\n",
       "   3 │ Odómetro           8.12749e5  436624                 1.0034e6  1142707\n",
       "   4 │ Horómetro          40.0       4                      33.0      86\n",
       "   5 │ Fecha             \u001b[90m           \u001b[0m 01/abr./2024 12:39:00 \u001b[90m          \u001b[0m 31/may./ ⋯\n",
       "   6 │ Tanqueo Full      \u001b[90m           \u001b[0m N                     \u001b[90m          \u001b[0m S\n",
       "   7 │ Costo por Volumen \u001b[90m           \u001b[0m 23,24                 \u001b[90m          \u001b[0m 26,97\n",
       "   8 │ Cant.             \u001b[90m           \u001b[0m 100                   \u001b[90m          \u001b[0m 99,13\n",
       "   9 │ Unidad            \u001b[90m           \u001b[0m Litros                \u001b[90m          \u001b[0m Litros   ⋯\n",
       "  10 │ Costo Total       \u001b[90m           \u001b[0m 1000,45               \u001b[90m          \u001b[0m 9999\n",
       "  11 │ Tipo              \u001b[90m           \u001b[0m DIESEL                \u001b[90m          \u001b[0m DIESEL\n",
       "  12 │ Column12          \u001b[90m           \u001b[0m\u001b[90m                       \u001b[0m\u001b[90m          \u001b[0m\u001b[90m         \u001b[0m\n",
       "\u001b[36m                                                               3 columns omitted\u001b[0m"
      ]
     },
     "execution_count": 181,
     "metadata": {},
     "output_type": "execute_result"
    }
   ],
   "source": [
    "# Preparar paths\n",
    "path = \"dataSets/damCombustible.csv\"\n",
    "cleaned_path = \"dataSets/damCombustible_cleaned.csv\"\n",
    "\n",
    "# Corregir cada linea del CSV\n",
    "function fix_csv_line(line::String)\n",
    "    parts = split(line, \",\")\n",
    "    horometro_index = 3\n",
    "    \n",
    "    if length(parts) > horometro_index + 1 && !isempty(parts[horometro_index + 1])\n",
    "        while length(parts) > horometro_index + 2 && parts[horometro_index + 2] == \"\"\n",
    "            parts = vcat(parts[1:horometro_index + 1], parts[horometro_index + 3:end])\n",
    "        end\n",
    "    end\n",
    "\n",
    "    return join(parts, \",\")\n",
    "end\n",
    "        \n",
    "\n",
    "function correct_csv_file(input_path::String, output_path::String)\n",
    "    csv_lines = readlines(input_path)\n",
    "\n",
    "    fixed_lines = [fix_csv_line(line) for line in csv_lines]\n",
    "\n",
    "    open(output_path, \"w\") do file\n",
    "        for line in fixed_lines\n",
    "            println(file, line)\n",
    "        end\n",
    "    end\n",
    "end\n",
    "\n",
    "correct_csv_file(path, cleaned_path)\n",
    "\n",
    "df = CSV.read(cleaned_path, DataFrame)\n",
    "describe(df)"
   ]
  },
  {
   "cell_type": "markdown",
   "id": "983c6d1e-3502-4667-a971-640a3a267fd1",
   "metadata": {},
   "source": [
    "## Changing columns data-type to correct data-type\n",
    "Fecha = DateTime\n",
    "\n",
    "Tanqueo Full = Bool\n",
    "\n",
    "Costo por Volumen = Float32\n",
    "\n",
    "Cantidad = Float32\n",
    "\n",
    "Costo Total = Float32"
   ]
  },
  {
   "cell_type": "code",
   "execution_count": 182,
   "id": "87634555-0d96-42ba-b031-befa2762b7fd",
   "metadata": {},
   "outputs": [
    {
     "data": {
      "text/plain": [
       "12-element Vector{Symbol}:\n",
       " Symbol(\"Nro.\")\n",
       " :Vehículo\n",
       " :Odómetro\n",
       " :Horómetro\n",
       " :Fecha\n",
       " Symbol(\"Tanqueo Full\")\n",
       " Symbol(\"Costo por Volumen\")\n",
       " Symbol(\"Cant.\")\n",
       " :Unidad\n",
       " Symbol(\"Costo Total\")\n",
       " :Tipo\n",
       " :Column12"
      ]
     },
     "execution_count": 182,
     "metadata": {},
     "output_type": "execute_result"
    }
   ],
   "source": [
    "propertynames(df)"
   ]
  },
  {
   "cell_type": "code",
   "execution_count": 183,
   "id": "451e582e-febd-4a9a-a0c7-c81233fb0f60",
   "metadata": {},
   "outputs": [
    {
     "data": {
      "text/plain": [
       "8-element Vector{Symbol}:\n",
       " :Numero\n",
       " :Vehiculo\n",
       " :Odometro\n",
       " :Fecha\n",
       " :Tanque_Lleno\n",
       " :Costo_Por_Volumen\n",
       " :Cantidad\n",
       " :Costo_Total"
      ]
     },
     "execution_count": 183,
     "metadata": {},
     "output_type": "execute_result"
    }
   ],
   "source": [
    "# Rename columns\n",
    "rename!(df, Symbol(\"Nro.\") => :Numero,\n",
    "    :Vehículo => :Vehiculo, :Odómetro => :Odometro,\n",
    "    :Horómetro => :Horometro,\n",
    "    Symbol(\"Tanqueo Full\") => :Tanque_Lleno,\n",
    "    Symbol(\"Costo por Volumen\") => :Costo_Por_Volumen,\n",
    "    Symbol(\"Cant.\") => :Cantidad,\n",
    "    Symbol(\"Costo Total\") => :Costo_Total)\n",
    "\n",
    "# Drop useless Columns\n",
    "select!(df, Not(:Column12, :Horometro, :Unidad, :Tipo))\n",
    "\n",
    "propertynames(df)"
   ]
  },
  {
   "cell_type": "code",
   "execution_count": 184,
   "id": "92209fee-9879-479a-903e-237895a3559c",
   "metadata": {},
   "outputs": [],
   "source": [
    "# Convert S and N to 1 and 0 respectively\n",
    "df.Tanque_Lleno = df.Tanque_Lleno .== \"S\"\n",
    "\n",
    "#---------------------------------------------------------------\n",
    "\n",
    "# Date convertion \n",
    "# Change spanish name to english\n",
    "function replaceMonths(date)\n",
    "    months = Dict(\n",
    "        \"ene.\" => \"01\", \"feb.\" => \"02\", \"mar.\" => \"03\", \"abr.\" => \"04\",\n",
    "        \"may.\" => \"05\", \"jun.\" => \"06\", \"jul.\" => \"07\", \"ago.\" => \"08\",\n",
    "        \"sep.\" => \"09\", \"oct.\" => \"10\", \"nov.\" => \"11\", \"dic.\" => \"12\"\n",
    "    )\n",
    "\n",
    "    for (mes, month) in months\n",
    "        if occursin(mes, date)\n",
    "            return replace(date, mes => month)\n",
    "        end\n",
    "    end\n",
    "\n",
    "    return date\n",
    "end\n",
    "\n",
    "df.Fecha = replaceMonths.(df.Fecha)\n",
    "\n",
    "df.Fecha = Dates.DateTime.(df.Fecha, \"dd/mm/yyyy HH:MM:SS\")\n",
    "\n",
    "#---------------------------------------------------------------\n",
    "\n",
    "# Columns to convert with commas\n",
    "columns_with_commas_to_convert = [:Costo_Por_Volumen, :Cantidad, :Costo_Total]\n",
    "\n",
    "# Replace columns with dots and to float\n",
    "for col in columns_with_commas_to_convert\n",
    "    df[!, col] = replace.(df[!, col], \",\" => \".\")\n",
    "    df[!, col] = parse.(Float32, df[!, col])\n",
    "end"
   ]
  },
  {
   "cell_type": "code",
   "execution_count": 185,
   "id": "d68ec5f8-0392-497b-aacd-4f2351a0b40f",
   "metadata": {},
   "outputs": [
    {
     "data": {
      "text/html": [
       "<div><div style = \"float: left;\"><span>8×7 DataFrame</span></div><div style = \"clear: both;\"></div></div><div class = \"data-frame\" style = \"overflow-x: scroll;\"><table class = \"data-frame\" style = \"margin-bottom: 6px;\"><thead><tr class = \"header\"><th class = \"rowNumber\" style = \"font-weight: bold; text-align: right;\">Row</th><th style = \"text-align: left;\">variable</th><th style = \"text-align: left;\">mean</th><th style = \"text-align: left;\">min</th><th style = \"text-align: left;\">median</th><th style = \"text-align: left;\">max</th><th style = \"text-align: left;\">nmissing</th><th style = \"text-align: left;\">eltype</th></tr><tr class = \"subheader headerLastRow\"><th class = \"rowNumber\" style = \"font-weight: bold; text-align: right;\"></th><th title = \"Symbol\" style = \"text-align: left;\">Symbol</th><th title = \"Union{Nothing, AbstractFloat}\" style = \"text-align: left;\">Union…</th><th title = \"Any\" style = \"text-align: left;\">Any</th><th title = \"Any\" style = \"text-align: left;\">Any</th><th title = \"Any\" style = \"text-align: left;\">Any</th><th title = \"Int64\" style = \"text-align: left;\">Int64</th><th title = \"DataType\" style = \"text-align: left;\">DataType</th></tr></thead><tbody><tr><td class = \"rowNumber\" style = \"font-weight: bold; text-align: right;\">1</td><td style = \"text-align: left;\">Numero</td><td style = \"text-align: left;\">320.709</td><td style = \"text-align: left;\">2</td><td style = \"text-align: left;\">322.5</td><td style = \"text-align: left;\">638</td><td style = \"text-align: right;\">0</td><td style = \"text-align: left;\">Int64</td></tr><tr><td class = \"rowNumber\" style = \"font-weight: bold; text-align: right;\">2</td><td style = \"text-align: left;\">Vehiculo</td><td style = \"text-align: left;\">105.566</td><td style = \"text-align: left;\">101</td><td style = \"text-align: left;\">105.0</td><td style = \"text-align: left;\">110</td><td style = \"text-align: right;\">0</td><td style = \"text-align: left;\">Int64</td></tr><tr><td class = \"rowNumber\" style = \"font-weight: bold; text-align: right;\">3</td><td style = \"text-align: left;\">Odometro</td><td style = \"text-align: left;\">8.12749e5</td><td style = \"text-align: left;\">436624</td><td style = \"text-align: left;\">1.0034e6</td><td style = \"text-align: left;\">1142707</td><td style = \"text-align: right;\">0</td><td style = \"text-align: left;\">Int64</td></tr><tr><td class = \"rowNumber\" style = \"font-weight: bold; text-align: right;\">4</td><td style = \"text-align: left;\">Fecha</td><td style = \"font-style: italic; text-align: left;\"></td><td style = \"text-align: left;\">2024-04-01T12:39:00</td><td style = \"text-align: left;\">2024-05-31T16:37:16</td><td style = \"text-align: left;\">2024-08-06T17:33:18</td><td style = \"text-align: right;\">0</td><td style = \"text-align: left;\">DateTime</td></tr><tr><td class = \"rowNumber\" style = \"font-weight: bold; text-align: right;\">5</td><td style = \"text-align: left;\">Tanque_Lleno</td><td style = \"text-align: left;\">0.800633</td><td style = \"text-align: left;\">false</td><td style = \"text-align: left;\">1.0</td><td style = \"text-align: left;\">true</td><td style = \"text-align: right;\">0</td><td style = \"text-align: left;\">Bool</td></tr><tr><td class = \"rowNumber\" style = \"font-weight: bold; text-align: right;\">6</td><td style = \"text-align: left;\">Costo_Por_Volumen</td><td style = \"text-align: left;\">25.2959</td><td style = \"text-align: left;\">23.24</td><td style = \"text-align: left;\">25.29</td><td style = \"text-align: left;\">26.97</td><td style = \"text-align: right;\">0</td><td style = \"text-align: left;\">Float32</td></tr><tr><td class = \"rowNumber\" style = \"font-weight: bold; text-align: right;\">7</td><td style = \"text-align: left;\">Cantidad</td><td style = \"text-align: left;\">160.645</td><td style = \"text-align: left;\">13.0</td><td style = \"text-align: left;\">120.025</td><td style = \"text-align: left;\">665.0</td><td style = \"text-align: right;\">0</td><td style = \"text-align: left;\">Float32</td></tr><tr><td class = \"rowNumber\" style = \"font-weight: bold; text-align: right;\">8</td><td style = \"text-align: left;\">Costo_Total</td><td style = \"text-align: left;\">4058.61</td><td style = \"text-align: left;\">329.0</td><td style = \"text-align: left;\">3055.5</td><td style = \"text-align: left;\">16353.0</td><td style = \"text-align: right;\">0</td><td style = \"text-align: left;\">Float32</td></tr></tbody></table></div>"
      ],
      "text/latex": [
       "\\begin{tabular}{r|cccccc}\n",
       "\t& variable & mean & min & median & max & \\\\\n",
       "\t\\hline\n",
       "\t& Symbol & Union… & Any & Any & Any & \\\\\n",
       "\t\\hline\n",
       "\t1 & Numero & 320.709 & 2 & 322.5 & 638 & $\\dots$ \\\\\n",
       "\t2 & Vehiculo & 105.566 & 101 & 105.0 & 110 & $\\dots$ \\\\\n",
       "\t3 & Odometro & 8.12749e5 & 436624 & 1.0034e6 & 1142707 & $\\dots$ \\\\\n",
       "\t4 & Fecha &  & 2024-04-01T12:39:00 & 2024-05-31T16:37:16 & 2024-08-06T17:33:18 & $\\dots$ \\\\\n",
       "\t5 & Tanque\\_Lleno & 0.800633 & 0 & 1.0 & 1 & $\\dots$ \\\\\n",
       "\t6 & Costo\\_Por\\_Volumen & 25.2959 & 23.24 & 25.29 & 26.97 & $\\dots$ \\\\\n",
       "\t7 & Cantidad & 160.645 & 13.0 & 120.025 & 665.0 & $\\dots$ \\\\\n",
       "\t8 & Costo\\_Total & 4058.61 & 329.0 & 3055.5 & 16353.0 & $\\dots$ \\\\\n",
       "\\end{tabular}\n"
      ],
      "text/plain": [
       "\u001b[1m8×7 DataFrame\u001b[0m\n",
       "\u001b[1m Row \u001b[0m│\u001b[1m variable          \u001b[0m\u001b[1m mean      \u001b[0m\u001b[1m min                 \u001b[0m\u001b[1m median              \u001b[0m\u001b[1m\u001b[0m ⋯\n",
       "     │\u001b[90m Symbol            \u001b[0m\u001b[90m Union…    \u001b[0m\u001b[90m Any                 \u001b[0m\u001b[90m Any                 \u001b[0m\u001b[90m\u001b[0m ⋯\n",
       "─────┼──────────────────────────────────────────────────────────────────────────\n",
       "   1 │ Numero             320.709    2                    322.5                ⋯\n",
       "   2 │ Vehiculo           105.566    101                  105.0\n",
       "   3 │ Odometro           8.12749e5  436624               1.0034e6\n",
       "   4 │ Fecha             \u001b[90m           \u001b[0m 2024-04-01T12:39:00  2024-05-31T16:37:16\n",
       "   5 │ Tanque_Lleno       0.800633   false                1.0                  ⋯\n",
       "   6 │ Costo_Por_Volumen  25.2959    23.24                25.29\n",
       "   7 │ Cantidad           160.645    13.0                 120.025\n",
       "   8 │ Costo_Total        4058.61    329.0                3055.5\n",
       "\u001b[36m                                                               3 columns omitted\u001b[0m"
      ]
     },
     "execution_count": 185,
     "metadata": {},
     "output_type": "execute_result"
    }
   ],
   "source": [
    "describe(df)"
   ]
  },
  {
   "cell_type": "code",
   "execution_count": 186,
   "id": "b1f2190d-f036-4a50-95ec-70701bab16b8",
   "metadata": {},
   "outputs": [
    {
     "data": {
      "text/plain": [
       "(632, 8)"
      ]
     },
     "execution_count": 186,
     "metadata": {},
     "output_type": "execute_result"
    }
   ],
   "source": [
    "size(df)"
   ]
  },
  {
   "cell_type": "markdown",
   "id": "900581d1-ec3f-4105-8577-fc0baba7f08a",
   "metadata": {},
   "source": [
    "# Separating training and test data"
   ]
  },
  {
   "cell_type": "code",
   "execution_count": 187,
   "id": "87602240-a20d-4fb0-8766-11839ea3ec6d",
   "metadata": {},
   "outputs": [
    {
     "data": {
      "text/plain": [
       "506"
      ]
     },
     "execution_count": 187,
     "metadata": {},
     "output_type": "execute_result"
    }
   ],
   "source": [
    "# 80% for training\n",
    "train_ratio = 0.8\n",
    "n_training = round(Int, train_ratio * nrow(df))"
   ]
  },
  {
   "cell_type": "code",
   "execution_count": 188,
   "id": "e3a5c69a-01cc-4279-ad9b-6fc4313d7fb2",
   "metadata": {},
   "outputs": [
    {
     "data": {
      "text/html": [
       "<div><div style = \"float: left;\"><span>126×8 DataFrame</span></div><div style = \"float: right;\"><span style = \"font-style: italic;\">101 rows omitted</span></div><div style = \"clear: both;\"></div></div><div class = \"data-frame\" style = \"overflow-x: scroll;\"><table class = \"data-frame\" style = \"margin-bottom: 6px;\"><thead><tr class = \"header\"><th class = \"rowNumber\" style = \"font-weight: bold; text-align: right;\">Row</th><th style = \"text-align: left;\">Numero</th><th style = \"text-align: left;\">Vehiculo</th><th style = \"text-align: left;\">Odometro</th><th style = \"text-align: left;\">Fecha</th><th style = \"text-align: left;\">Tanque_Lleno</th><th style = \"text-align: left;\">Costo_Por_Volumen</th><th style = \"text-align: left;\">Cantidad</th><th style = \"text-align: left;\">Costo_Total</th></tr><tr class = \"subheader headerLastRow\"><th class = \"rowNumber\" style = \"font-weight: bold; text-align: right;\"></th><th title = \"Int64\" style = \"text-align: left;\">Int64</th><th title = \"Int64\" style = \"text-align: left;\">Int64</th><th title = \"Int64\" style = \"text-align: left;\">Int64</th><th title = \"DateTime\" style = \"text-align: left;\">DateTime</th><th title = \"Bool\" style = \"text-align: left;\">Bool</th><th title = \"Float32\" style = \"text-align: left;\">Float32</th><th title = \"Float32\" style = \"text-align: left;\">Float32</th><th title = \"Float32\" style = \"text-align: left;\">Float32</th></tr></thead><tbody><tr><td class = \"rowNumber\" style = \"font-weight: bold; text-align: right;\">1</td><td style = \"text-align: right;\">128</td><td style = \"text-align: right;\">103</td><td style = \"text-align: right;\">755893</td><td style = \"text-align: left;\">2024-04-27T05:44:42</td><td style = \"text-align: right;\">true</td><td style = \"text-align: right;\">23.29</td><td style = \"text-align: right;\">158.22</td><td style = \"text-align: right;\">3685.04</td></tr><tr><td class = \"rowNumber\" style = \"font-weight: bold; text-align: right;\">2</td><td style = \"text-align: right;\">125</td><td style = \"text-align: right;\">110</td><td style = \"text-align: right;\">566806</td><td style = \"text-align: left;\">2024-04-26T22:57:42</td><td style = \"text-align: right;\">true</td><td style = \"text-align: right;\">24.99</td><td style = \"text-align: right;\">78.29</td><td style = \"text-align: right;\">1956.47</td></tr><tr><td class = \"rowNumber\" style = \"font-weight: bold; text-align: right;\">3</td><td style = \"text-align: right;\">126</td><td style = \"text-align: right;\">104</td><td style = \"text-align: right;\">1011058</td><td style = \"text-align: left;\">2024-04-26T22:56:34</td><td style = \"text-align: right;\">true</td><td style = \"text-align: right;\">24.99</td><td style = \"text-align: right;\">160.0</td><td style = \"text-align: right;\">3998.4</td></tr><tr><td class = \"rowNumber\" style = \"font-weight: bold; text-align: right;\">4</td><td style = \"text-align: right;\">124</td><td style = \"text-align: right;\">110</td><td style = \"text-align: right;\">566806</td><td style = \"text-align: left;\">2024-04-26T22:46:09</td><td style = \"text-align: right;\">true</td><td style = \"text-align: right;\">24.99</td><td style = \"text-align: right;\">400.0</td><td style = \"text-align: right;\">9996.0</td></tr><tr><td class = \"rowNumber\" style = \"font-weight: bold; text-align: right;\">5</td><td style = \"text-align: right;\">123</td><td style = \"text-align: right;\">106</td><td style = \"text-align: right;\">440125</td><td style = \"text-align: left;\">2024-04-26T19:01:03</td><td style = \"text-align: right;\">true</td><td style = \"text-align: right;\">25.39</td><td style = \"text-align: right;\">119.01</td><td style = \"text-align: right;\">3021.66</td></tr><tr><td class = \"rowNumber\" style = \"font-weight: bold; text-align: right;\">6</td><td style = \"text-align: right;\">122</td><td style = \"text-align: right;\">104</td><td style = \"text-align: right;\">1010506</td><td style = \"text-align: left;\">2024-04-26T10:28:05</td><td style = \"text-align: right;\">true</td><td style = \"text-align: right;\">25.99</td><td style = \"text-align: right;\">160.0</td><td style = \"text-align: right;\">4158.4</td></tr><tr><td class = \"rowNumber\" style = \"font-weight: bold; text-align: right;\">7</td><td style = \"text-align: right;\">127</td><td style = \"text-align: right;\">103</td><td style = \"text-align: right;\">755473</td><td style = \"text-align: left;\">2024-04-26T02:35:00</td><td style = \"text-align: right;\">true</td><td style = \"text-align: right;\">25.39</td><td style = \"text-align: right;\">118.16</td><td style = \"text-align: right;\">3000.0</td></tr><tr><td class = \"rowNumber\" style = \"font-weight: bold; text-align: right;\">8</td><td style = \"text-align: right;\">121</td><td style = \"text-align: right;\">107</td><td style = \"text-align: right;\">1090039</td><td style = \"text-align: left;\">2024-04-26T02:17:16</td><td style = \"text-align: right;\">true</td><td style = \"text-align: right;\">25.69</td><td style = \"text-align: right;\">147.76</td><td style = \"text-align: right;\">3795.95</td></tr><tr><td class = \"rowNumber\" style = \"font-weight: bold; text-align: right;\">9</td><td style = \"text-align: right;\">120</td><td style = \"text-align: right;\">104</td><td style = \"text-align: right;\">1010282</td><td style = \"text-align: left;\">2024-04-25T23:50:15</td><td style = \"text-align: right;\">true</td><td style = \"text-align: right;\">25.49</td><td style = \"text-align: right;\">90.23</td><td style = \"text-align: right;\">2300.0</td></tr><tr><td class = \"rowNumber\" style = \"font-weight: bold; text-align: right;\">10</td><td style = \"text-align: right;\">119</td><td style = \"text-align: right;\">106</td><td style = \"text-align: right;\">439718</td><td style = \"text-align: left;\">2024-04-25T22:26:07</td><td style = \"text-align: right;\">true</td><td style = \"text-align: right;\">25.49</td><td style = \"text-align: right;\">105.92</td><td style = \"text-align: right;\">2700.0</td></tr><tr><td class = \"rowNumber\" style = \"font-weight: bold; text-align: right;\">11</td><td style = \"text-align: right;\">117</td><td style = \"text-align: right;\">109</td><td style = \"text-align: right;\">538484</td><td style = \"text-align: left;\">2024-04-25T15:50:17</td><td style = \"text-align: right;\">true</td><td style = \"text-align: right;\">25.39</td><td style = \"text-align: right;\">50.0</td><td style = \"text-align: right;\">1269.5</td></tr><tr><td class = \"rowNumber\" style = \"font-weight: bold; text-align: right;\">12</td><td style = \"text-align: right;\">116</td><td style = \"text-align: right;\">109</td><td style = \"text-align: right;\">538484</td><td style = \"text-align: left;\">2024-04-25T15:43:10</td><td style = \"text-align: right;\">true</td><td style = \"text-align: right;\">25.39</td><td style = \"text-align: right;\">393.81</td><td style = \"text-align: right;\">9999.0</td></tr><tr><td class = \"rowNumber\" style = \"font-weight: bold; text-align: right;\">13</td><td style = \"text-align: right;\">118</td><td style = \"text-align: right;\">103</td><td style = \"text-align: right;\">754957</td><td style = \"text-align: left;\">2024-04-25T15:42:03</td><td style = \"text-align: right;\">true</td><td style = \"text-align: right;\">25.29</td><td style = \"text-align: right;\">101.4</td><td style = \"text-align: right;\">2564.46</td></tr><tr><td style = \"text-align: right;\">&vellip;</td><td style = \"text-align: right;\">&vellip;</td><td style = \"text-align: right;\">&vellip;</td><td style = \"text-align: right;\">&vellip;</td><td style = \"text-align: right;\">&vellip;</td><td style = \"text-align: right;\">&vellip;</td><td style = \"text-align: right;\">&vellip;</td><td style = \"text-align: right;\">&vellip;</td><td style = \"text-align: right;\">&vellip;</td></tr><tr><td class = \"rowNumber\" style = \"font-weight: bold; text-align: right;\">115</td><td style = \"text-align: right;\">52</td><td style = \"text-align: right;\">107</td><td style = \"text-align: right;\">1084985</td><td style = \"text-align: left;\">2024-04-03T22:47:00</td><td style = \"text-align: right;\">true</td><td style = \"text-align: right;\">25.39</td><td style = \"text-align: right;\">114.22</td><td style = \"text-align: right;\">2900.0</td></tr><tr><td class = \"rowNumber\" style = \"font-weight: bold; text-align: right;\">116</td><td style = \"text-align: right;\">37</td><td style = \"text-align: right;\">110</td><td style = \"text-align: right;\">559180</td><td style = \"text-align: left;\">2024-04-03T20:47:00</td><td style = \"text-align: right;\">true</td><td style = \"text-align: right;\">24.79</td><td style = \"text-align: right;\">400.0</td><td style = \"text-align: right;\">9916.0</td></tr><tr><td class = \"rowNumber\" style = \"font-weight: bold; text-align: right;\">117</td><td style = \"text-align: right;\">17</td><td style = \"text-align: right;\">104</td><td style = \"text-align: right;\">1005471</td><td style = \"text-align: left;\">2024-04-03T19:40:00</td><td style = \"text-align: right;\">true</td><td style = \"text-align: right;\">24.79</td><td style = \"text-align: right;\">160.0</td><td style = \"text-align: right;\">3966.4</td></tr><tr><td class = \"rowNumber\" style = \"font-weight: bold; text-align: right;\">118</td><td style = \"text-align: right;\">24</td><td style = \"text-align: right;\">108</td><td style = \"text-align: right;\">1122699</td><td style = \"text-align: left;\">2024-04-03T15:13:00</td><td style = \"text-align: right;\">true</td><td style = \"text-align: right;\">24.79</td><td style = \"text-align: right;\">50.02</td><td style = \"text-align: right;\">1240.0</td></tr><tr><td class = \"rowNumber\" style = \"font-weight: bold; text-align: right;\">119</td><td style = \"text-align: right;\">13</td><td style = \"text-align: right;\">102</td><td style = \"text-align: right;\">1001762</td><td style = \"text-align: left;\">2024-04-03T15:04:00</td><td style = \"text-align: right;\">true</td><td style = \"text-align: right;\">24.79</td><td style = \"text-align: right;\">85.27</td><td style = \"text-align: right;\">2113.84</td></tr><tr><td class = \"rowNumber\" style = \"font-weight: bold; text-align: right;\">120</td><td style = \"text-align: right;\">31</td><td style = \"text-align: right;\">109</td><td style = \"text-align: right;\">531081</td><td style = \"text-align: left;\">2024-04-03T14:31:00</td><td style = \"text-align: right;\">true</td><td style = \"text-align: right;\">24.79</td><td style = \"text-align: right;\">49.99</td><td style = \"text-align: right;\">1239.25</td></tr><tr><td class = \"rowNumber\" style = \"font-weight: bold; text-align: right;\">121</td><td style = \"text-align: right;\">30</td><td style = \"text-align: right;\">109</td><td style = \"text-align: right;\">531081</td><td style = \"text-align: left;\">2024-04-03T14:25:00</td><td style = \"text-align: right;\">true</td><td style = \"text-align: right;\">24.79</td><td style = \"text-align: right;\">400.0</td><td style = \"text-align: right;\">9916.0</td></tr><tr><td class = \"rowNumber\" style = \"font-weight: bold; text-align: right;\">122</td><td style = \"text-align: right;\">2</td><td style = \"text-align: right;\">107</td><td style = \"text-align: right;\">1084985</td><td style = \"text-align: left;\">2024-04-03T09:40:00</td><td style = \"text-align: right;\">false</td><td style = \"text-align: right;\">24.79</td><td style = \"text-align: right;\">39.07</td><td style = \"text-align: right;\">968.55</td></tr><tr><td class = \"rowNumber\" style = \"font-weight: bold; text-align: right;\">123</td><td style = \"text-align: right;\">29</td><td style = \"text-align: right;\">109</td><td style = \"text-align: right;\">530263</td><td style = \"text-align: left;\">2024-04-02T18:51:00</td><td style = \"text-align: right;\">true</td><td style = \"text-align: right;\">24.98</td><td style = \"text-align: right;\">37.54</td><td style = \"text-align: right;\">937.75</td></tr><tr><td class = \"rowNumber\" style = \"font-weight: bold; text-align: right;\">124</td><td style = \"text-align: right;\">28</td><td style = \"text-align: right;\">109</td><td style = \"text-align: right;\">530263</td><td style = \"text-align: left;\">2024-04-02T18:44:00</td><td style = \"text-align: right;\">true</td><td style = \"text-align: right;\">24.98</td><td style = \"text-align: right;\">400.0</td><td style = \"text-align: right;\">9992.0</td></tr><tr><td class = \"rowNumber\" style = \"font-weight: bold; text-align: right;\">125</td><td style = \"text-align: right;\">36</td><td style = \"text-align: right;\">110</td><td style = \"text-align: right;\">558302</td><td style = \"text-align: left;\">2024-04-01T12:44:00</td><td style = \"text-align: right;\">true</td><td style = \"text-align: right;\">24.98</td><td style = \"text-align: right;\">40.05</td><td style = \"text-align: right;\">1000.45</td></tr><tr><td class = \"rowNumber\" style = \"font-weight: bold; text-align: right;\">126</td><td style = \"text-align: right;\">35</td><td style = \"text-align: right;\">110</td><td style = \"text-align: right;\">558302</td><td style = \"text-align: left;\">2024-04-01T12:39:00</td><td style = \"text-align: right;\">true</td><td style = \"text-align: right;\">24.98</td><td style = \"text-align: right;\">400.0</td><td style = \"text-align: right;\">9992.05</td></tr></tbody></table></div>"
      ],
      "text/latex": [
       "\\begin{tabular}{r|ccccccc}\n",
       "\t& Numero & Vehiculo & Odometro & Fecha & Tanque\\_Lleno & Costo\\_Por\\_Volumen & \\\\\n",
       "\t\\hline\n",
       "\t& Int64 & Int64 & Int64 & DateTime & Bool & Float32 & \\\\\n",
       "\t\\hline\n",
       "\t1 & 128 & 103 & 755893 & 2024-04-27T05:44:42 & 1 & 23.29 & $\\dots$ \\\\\n",
       "\t2 & 125 & 110 & 566806 & 2024-04-26T22:57:42 & 1 & 24.99 & $\\dots$ \\\\\n",
       "\t3 & 126 & 104 & 1011058 & 2024-04-26T22:56:34 & 1 & 24.99 & $\\dots$ \\\\\n",
       "\t4 & 124 & 110 & 566806 & 2024-04-26T22:46:09 & 1 & 24.99 & $\\dots$ \\\\\n",
       "\t5 & 123 & 106 & 440125 & 2024-04-26T19:01:03 & 1 & 25.39 & $\\dots$ \\\\\n",
       "\t6 & 122 & 104 & 1010506 & 2024-04-26T10:28:05 & 1 & 25.99 & $\\dots$ \\\\\n",
       "\t7 & 127 & 103 & 755473 & 2024-04-26T02:35:00 & 1 & 25.39 & $\\dots$ \\\\\n",
       "\t8 & 121 & 107 & 1090039 & 2024-04-26T02:17:16 & 1 & 25.69 & $\\dots$ \\\\\n",
       "\t9 & 120 & 104 & 1010282 & 2024-04-25T23:50:15 & 1 & 25.49 & $\\dots$ \\\\\n",
       "\t10 & 119 & 106 & 439718 & 2024-04-25T22:26:07 & 1 & 25.49 & $\\dots$ \\\\\n",
       "\t11 & 117 & 109 & 538484 & 2024-04-25T15:50:17 & 1 & 25.39 & $\\dots$ \\\\\n",
       "\t12 & 116 & 109 & 538484 & 2024-04-25T15:43:10 & 1 & 25.39 & $\\dots$ \\\\\n",
       "\t13 & 118 & 103 & 754957 & 2024-04-25T15:42:03 & 1 & 25.29 & $\\dots$ \\\\\n",
       "\t14 & 146 & 101 & 1056009 & 2024-04-25T14:23:00 & 1 & 24.99 & $\\dots$ \\\\\n",
       "\t15 & 115 & 104 & 1009931 & 2024-04-25T13:29:14 & 1 & 24.99 & $\\dots$ \\\\\n",
       "\t16 & 114 & 102 & 1005415 & 2024-04-25T03:17:10 & 1 & 24.99 & $\\dots$ \\\\\n",
       "\t17 & 113 & 110 & 565991 & 2024-04-25T01:24:45 & 1 & 25.69 & $\\dots$ \\\\\n",
       "\t18 & 112 & 110 & 565991 & 2024-04-25T01:18:43 & 1 & 25.69 & $\\dots$ \\\\\n",
       "\t19 & 109 & 104 & 1009524 & 2024-04-24T15:31:53 & 1 & 25.39 & $\\dots$ \\\\\n",
       "\t20 & 149 & 105 & 472632 & 2024-04-24T15:04:00 & 1 & 24.99 & $\\dots$ \\\\\n",
       "\t21 & 108 & 102 & 1005009 & 2024-04-24T14:57:40 & 1 & 25.39 & $\\dots$ \\\\\n",
       "\t22 & 107 & 103 & 754602 & 2024-04-24T14:54:12 & 1 & 24.99 & $\\dots$ \\\\\n",
       "\t23 & 89 & 107 & 1089380 & 2024-04-24T14:04:00 & 1 & 24.99 & $\\dots$ \\\\\n",
       "\t24 & 106 & 109 & 537480 & 2024-04-24T07:13:09 & 1 & 25.29 & $\\dots$ \\\\\n",
       "\t25 & 105 & 109 & 537480 & 2024-04-24T07:06:10 & 1 & 25.29 & $\\dots$ \\\\\n",
       "\t26 & 111 & 104 & 1009139 & 2024-04-24T01:26:43 & 1 & 25.49 & $\\dots$ \\\\\n",
       "\t27 & 110 & 102 & 1004720 & 2024-04-24T01:21:38 & 1 & 25.49 & $\\dots$ \\\\\n",
       "\t28 & 148 & 101 & 1055178 & 2024-04-23T18:09:00 & 1 & 25.22 & $\\dots$ \\\\\n",
       "\t29 & 147 & 101 & 1055178 & 2024-04-23T18:04:00 & 1 & 25.29 & $\\dots$ \\\\\n",
       "\t30 & 99 & 102 & 1004312 & 2024-04-23T14:14:04 & 1 & 25.22 & $\\dots$ \\\\\n",
       "\t$\\dots$ & $\\dots$ & $\\dots$ & $\\dots$ & $\\dots$ & $\\dots$ & $\\dots$ &  \\\\\n",
       "\\end{tabular}\n"
      ],
      "text/plain": [
       "\u001b[1m126×8 DataFrame\u001b[0m\n",
       "\u001b[1m Row \u001b[0m│\u001b[1m Numero \u001b[0m\u001b[1m Vehiculo \u001b[0m\u001b[1m Odometro \u001b[0m\u001b[1m Fecha               \u001b[0m\u001b[1m Tanque_Lleno \u001b[0m\u001b[1m Costo_Po\u001b[0m ⋯\n",
       "     │\u001b[90m Int64  \u001b[0m\u001b[90m Int64    \u001b[0m\u001b[90m Int64    \u001b[0m\u001b[90m DateTime            \u001b[0m\u001b[90m Bool         \u001b[0m\u001b[90m Float32 \u001b[0m ⋯\n",
       "─────┼──────────────────────────────────────────────────────────────────────────\n",
       "   1 │    128       103    755893  2024-04-27T05:44:42          true           ⋯\n",
       "   2 │    125       110    566806  2024-04-26T22:57:42          true\n",
       "   3 │    126       104   1011058  2024-04-26T22:56:34          true\n",
       "   4 │    124       110    566806  2024-04-26T22:46:09          true\n",
       "   5 │    123       106    440125  2024-04-26T19:01:03          true           ⋯\n",
       "   6 │    122       104   1010506  2024-04-26T10:28:05          true\n",
       "   7 │    127       103    755473  2024-04-26T02:35:00          true\n",
       "   8 │    121       107   1090039  2024-04-26T02:17:16          true\n",
       "   9 │    120       104   1010282  2024-04-25T23:50:15          true           ⋯\n",
       "  10 │    119       106    439718  2024-04-25T22:26:07          true\n",
       "  11 │    117       109    538484  2024-04-25T15:50:17          true\n",
       "  ⋮  │   ⋮        ⋮         ⋮               ⋮                ⋮                 ⋱\n",
       " 117 │     17       104   1005471  2024-04-03T19:40:00          true\n",
       " 118 │     24       108   1122699  2024-04-03T15:13:00          true           ⋯\n",
       " 119 │     13       102   1001762  2024-04-03T15:04:00          true\n",
       " 120 │     31       109    531081  2024-04-03T14:31:00          true\n",
       " 121 │     30       109    531081  2024-04-03T14:25:00          true\n",
       " 122 │      2       107   1084985  2024-04-03T09:40:00         false           ⋯\n",
       " 123 │     29       109    530263  2024-04-02T18:51:00          true\n",
       " 124 │     28       109    530263  2024-04-02T18:44:00          true\n",
       " 125 │     36       110    558302  2024-04-01T12:44:00          true\n",
       " 126 │     35       110    558302  2024-04-01T12:39:00          true           ⋯\n",
       "\u001b[36m                                                  3 columns and 105 rows omitted\u001b[0m"
      ]
     },
     "execution_count": 188,
     "metadata": {},
     "output_type": "execute_result"
    }
   ],
   "source": [
    "trainData = df[1:n_training, :]\n",
    "testData = df[n_training+1:end, :]"
   ]
  },
  {
   "cell_type": "code",
   "execution_count": 189,
   "id": "8f85268a-090b-49e3-bb7c-95d1d2b961b8",
   "metadata": {},
   "outputs": [
    {
     "data": {
      "text/plain": [
       "(506, 8)"
      ]
     },
     "execution_count": 189,
     "metadata": {},
     "output_type": "execute_result"
    }
   ],
   "source": [
    "size(trainData)"
   ]
  },
  {
   "cell_type": "code",
   "execution_count": 190,
   "id": "ca143794-82cd-4130-8380-c8634899db85",
   "metadata": {},
   "outputs": [
    {
     "data": {
      "text/plain": [
       "(126, 8)"
      ]
     },
     "execution_count": 190,
     "metadata": {},
     "output_type": "execute_result"
    }
   ],
   "source": [
    "size(testData)"
   ]
  },
  {
   "cell_type": "markdown",
   "id": "75c585d6-6680-4cc6-a6a4-e496bd2ef5a9",
   "metadata": {},
   "source": [
    "### Averiguar si revolverlos sirve o no \n",
    "# Mezclar los índices aleatoriamente\n",
    "indices = shuffle(1:nrow(df))\n",
    "\n",
    "# Calcular el número de muestras para el conjunto de entrenamiento\n",
    "n_training = round(Int, train_ratio * nrow(df))\n",
    "\n",
    "# Separar los índices en entrenamiento y prueba\n",
    "train_indices = indices[1:n_training]\n",
    "test_indices = indices[n_training+1:end]\n",
    "\n",
    "# Crear los DataFrames de entrenamiento y prueba\n",
    "train_df = df[train_indices, :]\n",
    "test_df = df[test_indices, :]"
   ]
  },
  {
   "cell_type": "markdown",
   "id": "a443fcf2-acee-44a0-9515-8c33af952aca",
   "metadata": {},
   "source": [
    "# Función de regresión lineal"
   ]
  },
  {
   "cell_type": "markdown",
   "id": "0d43d1f9-5e48-4818-83aa-04d8f8bbeb4e",
   "metadata": {},
   "source": [
    "## Hipótesis"
   ]
  },
  {
   "cell_type": "code",
   "execution_count": 195,
   "id": "2cc2a92a-d6c6-49f0-9edb-7e7749319e45",
   "metadata": {},
   "outputs": [
    {
     "data": {
      "text/plain": [
       "hyp (generic function with 1 method)"
      ]
     },
     "execution_count": 195,
     "metadata": {},
     "output_type": "execute_result"
    }
   ],
   "source": [
    "# hyp\n",
    "theta = [1.0, 1.0, 1.0, 1.0, 1.0, 1.0, 1.0, 1.0]\n",
    "bias = [1.0]\n",
    "\n",
    "function hyp(X::Matrix{Float64}, theta::Vector{Float64})::Vector{Float64}\n",
    "    return X * theta\n",
    "end"
   ]
  },
  {
   "cell_type": "code",
   "execution_count": 192,
   "id": "8d9128a0-cbd6-4c40-b541-b696a7dd5b67",
   "metadata": {},
   "outputs": [
    {
     "data": {
      "text/html": [
       "<div><div style = \"float: left;\"><span>8×7 DataFrame</span></div><div style = \"clear: both;\"></div></div><div class = \"data-frame\" style = \"overflow-x: scroll;\"><table class = \"data-frame\" style = \"margin-bottom: 6px;\"><thead><tr class = \"header\"><th class = \"rowNumber\" style = \"font-weight: bold; text-align: right;\">Row</th><th style = \"text-align: left;\">variable</th><th style = \"text-align: left;\">mean</th><th style = \"text-align: left;\">min</th><th style = \"text-align: left;\">median</th><th style = \"text-align: left;\">max</th><th style = \"text-align: left;\">nmissing</th><th style = \"text-align: left;\">eltype</th></tr><tr class = \"subheader headerLastRow\"><th class = \"rowNumber\" style = \"font-weight: bold; text-align: right;\"></th><th title = \"Symbol\" style = \"text-align: left;\">Symbol</th><th title = \"Union{Nothing, AbstractFloat}\" style = \"text-align: left;\">Union…</th><th title = \"Any\" style = \"text-align: left;\">Any</th><th title = \"Any\" style = \"text-align: left;\">Any</th><th title = \"Any\" style = \"text-align: left;\">Any</th><th title = \"Int64\" style = \"text-align: left;\">Int64</th><th title = \"DataType\" style = \"text-align: left;\">DataType</th></tr></thead><tbody><tr><td class = \"rowNumber\" style = \"font-weight: bold; text-align: right;\">1</td><td style = \"text-align: left;\">Numero</td><td style = \"text-align: left;\">320.709</td><td style = \"text-align: left;\">2</td><td style = \"text-align: left;\">322.5</td><td style = \"text-align: left;\">638</td><td style = \"text-align: right;\">0</td><td style = \"text-align: left;\">Int64</td></tr><tr><td class = \"rowNumber\" style = \"font-weight: bold; text-align: right;\">2</td><td style = \"text-align: left;\">Vehiculo</td><td style = \"text-align: left;\">105.566</td><td style = \"text-align: left;\">101</td><td style = \"text-align: left;\">105.0</td><td style = \"text-align: left;\">110</td><td style = \"text-align: right;\">0</td><td style = \"text-align: left;\">Int64</td></tr><tr><td class = \"rowNumber\" style = \"font-weight: bold; text-align: right;\">3</td><td style = \"text-align: left;\">Odometro</td><td style = \"text-align: left;\">8.12749e5</td><td style = \"text-align: left;\">436624</td><td style = \"text-align: left;\">1.0034e6</td><td style = \"text-align: left;\">1142707</td><td style = \"text-align: right;\">0</td><td style = \"text-align: left;\">Int64</td></tr><tr><td class = \"rowNumber\" style = \"font-weight: bold; text-align: right;\">4</td><td style = \"text-align: left;\">Fecha</td><td style = \"font-style: italic; text-align: left;\"></td><td style = \"text-align: left;\">2024-04-01T12:39:00</td><td style = \"text-align: left;\">2024-05-31T16:37:16</td><td style = \"text-align: left;\">2024-08-06T17:33:18</td><td style = \"text-align: right;\">0</td><td style = \"text-align: left;\">DateTime</td></tr><tr><td class = \"rowNumber\" style = \"font-weight: bold; text-align: right;\">5</td><td style = \"text-align: left;\">Tanque_Lleno</td><td style = \"text-align: left;\">0.800633</td><td style = \"text-align: left;\">false</td><td style = \"text-align: left;\">1.0</td><td style = \"text-align: left;\">true</td><td style = \"text-align: right;\">0</td><td style = \"text-align: left;\">Bool</td></tr><tr><td class = \"rowNumber\" style = \"font-weight: bold; text-align: right;\">6</td><td style = \"text-align: left;\">Costo_Por_Volumen</td><td style = \"text-align: left;\">25.2959</td><td style = \"text-align: left;\">23.24</td><td style = \"text-align: left;\">25.29</td><td style = \"text-align: left;\">26.97</td><td style = \"text-align: right;\">0</td><td style = \"text-align: left;\">Float32</td></tr><tr><td class = \"rowNumber\" style = \"font-weight: bold; text-align: right;\">7</td><td style = \"text-align: left;\">Cantidad</td><td style = \"text-align: left;\">160.645</td><td style = \"text-align: left;\">13.0</td><td style = \"text-align: left;\">120.025</td><td style = \"text-align: left;\">665.0</td><td style = \"text-align: right;\">0</td><td style = \"text-align: left;\">Float32</td></tr><tr><td class = \"rowNumber\" style = \"font-weight: bold; text-align: right;\">8</td><td style = \"text-align: left;\">Costo_Total</td><td style = \"text-align: left;\">4058.61</td><td style = \"text-align: left;\">329.0</td><td style = \"text-align: left;\">3055.5</td><td style = \"text-align: left;\">16353.0</td><td style = \"text-align: right;\">0</td><td style = \"text-align: left;\">Float32</td></tr></tbody></table></div>"
      ],
      "text/latex": [
       "\\begin{tabular}{r|cccccc}\n",
       "\t& variable & mean & min & median & max & \\\\\n",
       "\t\\hline\n",
       "\t& Symbol & Union… & Any & Any & Any & \\\\\n",
       "\t\\hline\n",
       "\t1 & Numero & 320.709 & 2 & 322.5 & 638 & $\\dots$ \\\\\n",
       "\t2 & Vehiculo & 105.566 & 101 & 105.0 & 110 & $\\dots$ \\\\\n",
       "\t3 & Odometro & 8.12749e5 & 436624 & 1.0034e6 & 1142707 & $\\dots$ \\\\\n",
       "\t4 & Fecha &  & 2024-04-01T12:39:00 & 2024-05-31T16:37:16 & 2024-08-06T17:33:18 & $\\dots$ \\\\\n",
       "\t5 & Tanque\\_Lleno & 0.800633 & 0 & 1.0 & 1 & $\\dots$ \\\\\n",
       "\t6 & Costo\\_Por\\_Volumen & 25.2959 & 23.24 & 25.29 & 26.97 & $\\dots$ \\\\\n",
       "\t7 & Cantidad & 160.645 & 13.0 & 120.025 & 665.0 & $\\dots$ \\\\\n",
       "\t8 & Costo\\_Total & 4058.61 & 329.0 & 3055.5 & 16353.0 & $\\dots$ \\\\\n",
       "\\end{tabular}\n"
      ],
      "text/plain": [
       "\u001b[1m8×7 DataFrame\u001b[0m\n",
       "\u001b[1m Row \u001b[0m│\u001b[1m variable          \u001b[0m\u001b[1m mean      \u001b[0m\u001b[1m min                 \u001b[0m\u001b[1m median              \u001b[0m\u001b[1m\u001b[0m ⋯\n",
       "     │\u001b[90m Symbol            \u001b[0m\u001b[90m Union…    \u001b[0m\u001b[90m Any                 \u001b[0m\u001b[90m Any                 \u001b[0m\u001b[90m\u001b[0m ⋯\n",
       "─────┼──────────────────────────────────────────────────────────────────────────\n",
       "   1 │ Numero             320.709    2                    322.5                ⋯\n",
       "   2 │ Vehiculo           105.566    101                  105.0\n",
       "   3 │ Odometro           8.12749e5  436624               1.0034e6\n",
       "   4 │ Fecha             \u001b[90m           \u001b[0m 2024-04-01T12:39:00  2024-05-31T16:37:16\n",
       "   5 │ Tanque_Lleno       0.800633   false                1.0                  ⋯\n",
       "   6 │ Costo_Por_Volumen  25.2959    23.24                25.29\n",
       "   7 │ Cantidad           160.645    13.0                 120.025\n",
       "   8 │ Costo_Total        4058.61    329.0                3055.5\n",
       "\u001b[36m                                                               3 columns omitted\u001b[0m"
      ]
     },
     "execution_count": 192,
     "metadata": {},
     "output_type": "execute_result"
    }
   ],
   "source": [
    "describe(df)"
   ]
  },
  {
   "cell_type": "code",
   "execution_count": null,
   "id": "e6228bd5-f5af-488c-9bcc-52ee178595ff",
   "metadata": {},
   "outputs": [],
   "source": []
  },
  {
   "cell_type": "code",
   "execution_count": null,
   "id": "286176ce-da15-4bca-bd34-ddfafe37d8e2",
   "metadata": {},
   "outputs": [],
   "source": []
  },
  {
   "cell_type": "code",
   "execution_count": null,
   "id": "559f3607-889a-42e5-950a-d8cfc0127079",
   "metadata": {},
   "outputs": [],
   "source": []
  }
 ],
 "metadata": {
  "kernelspec": {
   "display_name": "Julia 1.10.4",
   "language": "julia",
   "name": "julia-1.10"
  },
  "language_info": {
   "file_extension": ".jl",
   "mimetype": "application/julia",
   "name": "julia",
   "version": "1.10.4"
  }
 },
 "nbformat": 4,
 "nbformat_minor": 5
}
