{
 "cells": [
  {
   "cell_type": "code",
   "execution_count": 4,
   "id": "be9209d5-b711-4569-82d1-b53bc2fa64cb",
   "metadata": {},
   "outputs": [],
   "source": [
    "using CSV\n",
    "using DataFrames\n",
    "using Statistics"
   ]
  },
  {
   "cell_type": "code",
   "execution_count": 5,
   "id": "0a04e261-3280-4350-9049-b41a3b7cbc32",
   "metadata": {},
   "outputs": [
    {
     "data": {
      "text/html": [
       "<div><div style = \"float: left;\"><span>15×7 DataFrame</span></div><div style = \"clear: both;\"></div></div><div class = \"data-frame\" style = \"overflow-x: scroll;\"><table class = \"data-frame\" style = \"margin-bottom: 6px;\"><thead><tr class = \"header\"><th class = \"rowNumber\" style = \"font-weight: bold; text-align: right;\">Row</th><th style = \"text-align: left;\">variable</th><th style = \"text-align: left;\">mean</th><th style = \"text-align: left;\">min</th><th style = \"text-align: left;\">median</th><th style = \"text-align: left;\">max</th><th style = \"text-align: left;\">nmissing</th><th style = \"text-align: left;\">eltype</th></tr><tr class = \"subheader headerLastRow\"><th class = \"rowNumber\" style = \"font-weight: bold; text-align: right;\"></th><th title = \"Symbol\" style = \"text-align: left;\">Symbol</th><th title = \"Union{Nothing, Float64}\" style = \"text-align: left;\">Union…</th><th title = \"Any\" style = \"text-align: left;\">Any</th><th title = \"Union{Nothing, Float64}\" style = \"text-align: left;\">Union…</th><th title = \"Any\" style = \"text-align: left;\">Any</th><th title = \"Int64\" style = \"text-align: left;\">Int64</th><th title = \"DataType\" style = \"text-align: left;\">DataType</th></tr></thead><tbody><tr><td class = \"rowNumber\" style = \"font-weight: bold; text-align: right;\">1</td><td style = \"text-align: left;\">Column1</td><td style = \"text-align: left;\">121.465</td><td style = \"text-align: left;\">0</td><td style = \"text-align: left;\">91.0</td><td style = \"text-align: left;\">724</td><td style = \"text-align: right;\">0</td><td style = \"text-align: left;\">Int64</td></tr><tr><td class = \"rowNumber\" style = \"font-weight: bold; text-align: right;\">2</td><td style = \"text-align: left;\">recipe_number</td><td style = \"text-align: left;\">38.6894</td><td style = \"text-align: left;\">1</td><td style = \"text-align: left;\">33.0</td><td style = \"text-align: left;\">100</td><td style = \"text-align: right;\">0</td><td style = \"text-align: left;\">Int64</td></tr><tr><td class = \"rowNumber\" style = \"font-weight: bold; text-align: right;\">3</td><td style = \"text-align: left;\">recipe_code</td><td style = \"text-align: left;\">21773.7</td><td style = \"text-align: left;\">386</td><td style = \"text-align: left;\">14600.0</td><td style = \"text-align: left;\">191775</td><td style = \"text-align: right;\">0</td><td style = \"text-align: left;\">Int64</td></tr><tr><td class = \"rowNumber\" style = \"font-weight: bold; text-align: right;\">4</td><td style = \"text-align: left;\">recipe_name</td><td style = \"font-style: italic; text-align: left;\"></td><td style = \"text-align: left;\">Amish Breakfast Casserole</td><td style = \"font-style: italic; text-align: left;\"></td><td style = \"text-align: left;\">Zucchini Pizza Casserole</td><td style = \"text-align: right;\">0</td><td style = \"text-align: left;\">String</td></tr><tr><td class = \"rowNumber\" style = \"font-weight: bold; text-align: right;\">5</td><td style = \"text-align: left;\">comment_id</td><td style = \"font-style: italic; text-align: left;\"></td><td style = \"text-align: left;\">sp_aUSaElGf_100276_c_106707</td><td style = \"font-style: italic; text-align: left;\"></td><td style = \"text-align: left;\">sp_aUSaElGf_9739_c_432231</td><td style = \"text-align: right;\">0</td><td style = \"text-align: left;\">String</td></tr><tr><td class = \"rowNumber\" style = \"font-weight: bold; text-align: right;\">6</td><td style = \"text-align: left;\">user_id</td><td style = \"font-style: italic; text-align: left;\"></td><td style = \"text-align: left;\">u_05PZUpOV27Pv</td><td style = \"font-style: italic; text-align: left;\"></td><td style = \"text-align: left;\">u_zwtUuezVpL60</td><td style = \"text-align: right;\">0</td><td style = \"text-align: left;\">String31</td></tr><tr><td class = \"rowNumber\" style = \"font-weight: bold; text-align: right;\">7</td><td style = \"text-align: left;\">user_name</td><td style = \"font-style: italic; text-align: left;\"></td><td style = \"text-align: left;\">*Glow*</td><td style = \"font-style: italic; text-align: left;\"></td><td style = \"text-align: left;\">zzhill</td><td style = \"text-align: right;\">0</td><td style = \"text-align: left;\">String31</td></tr><tr><td class = \"rowNumber\" style = \"font-weight: bold; text-align: right;\">8</td><td style = \"text-align: left;\">user_reputation</td><td style = \"text-align: left;\">2.15961</td><td style = \"text-align: left;\">0</td><td style = \"text-align: left;\">1.0</td><td style = \"text-align: left;\">520</td><td style = \"text-align: right;\">0</td><td style = \"text-align: left;\">Int64</td></tr><tr><td class = \"rowNumber\" style = \"font-weight: bold; text-align: right;\">9</td><td style = \"text-align: left;\">created_at</td><td style = \"text-align: left;\">1.62371e9</td><td style = \"text-align: left;\">1613035336</td><td style = \"text-align: left;\">1.62272e9</td><td style = \"text-align: left;\">1665756035</td><td style = \"text-align: right;\">0</td><td style = \"text-align: left;\">Int64</td></tr><tr><td class = \"rowNumber\" style = \"font-weight: bold; text-align: right;\">10</td><td style = \"text-align: left;\">reply_count</td><td style = \"text-align: left;\">0.0146299</td><td style = \"text-align: left;\">0</td><td style = \"text-align: left;\">0.0</td><td style = \"text-align: left;\">3</td><td style = \"text-align: right;\">0</td><td style = \"text-align: left;\">Int64</td></tr><tr><td class = \"rowNumber\" style = \"font-weight: bold; text-align: right;\">11</td><td style = \"text-align: left;\">thumbs_up</td><td style = \"text-align: left;\">1.08926</td><td style = \"text-align: left;\">0</td><td style = \"text-align: left;\">0.0</td><td style = \"text-align: left;\">106</td><td style = \"text-align: right;\">0</td><td style = \"text-align: left;\">Int64</td></tr><tr><td class = \"rowNumber\" style = \"font-weight: bold; text-align: right;\">12</td><td style = \"text-align: left;\">thumbs_down</td><td style = \"text-align: left;\">0.549335</td><td style = \"text-align: left;\">0</td><td style = \"text-align: left;\">0.0</td><td style = \"text-align: left;\">126</td><td style = \"text-align: right;\">0</td><td style = \"text-align: left;\">Int64</td></tr><tr><td class = \"rowNumber\" style = \"font-weight: bold; text-align: right;\">13</td><td style = \"text-align: left;\">stars</td><td style = \"text-align: left;\">4.2888</td><td style = \"text-align: left;\">0</td><td style = \"text-align: left;\">5.0</td><td style = \"text-align: left;\">5</td><td style = \"text-align: right;\">0</td><td style = \"text-align: left;\">Int64</td></tr><tr><td class = \"rowNumber\" style = \"font-weight: bold; text-align: right;\">14</td><td style = \"text-align: left;\">best_score</td><td style = \"text-align: left;\">153.162</td><td style = \"text-align: left;\">0</td><td style = \"text-align: left;\">100.0</td><td style = \"text-align: left;\">946</td><td style = \"text-align: right;\">0</td><td style = \"text-align: left;\">Int64</td></tr><tr><td class = \"rowNumber\" style = \"font-weight: bold; text-align: right;\">15</td><td style = \"text-align: left;\">text</td><td style = \"font-style: italic; text-align: left;\"></td><td style = \"text-align: left;\">  Hi i lived in Belgium all my live and we ate leekes every day in soeps as a vegetebel, in cheese pei, we simmer the leek in butter and add some salt and pepper its just plein goed, we also ate tem because there goed for your kidneys.</td><td style = \"font-style: italic; text-align: left;\"></td><td style = \"text-align: left;\">        </td><td style = \"text-align: right;\">0</td><td style = \"text-align: left;\">String</td></tr></tbody></table></div>"
      ],
      "text/latex": [
       "\\begin{tabular}{r|cccc}\n",
       "\t& variable & mean & min & \\\\\n",
       "\t\\hline\n",
       "\t& Symbol & Union… & Any & \\\\\n",
       "\t\\hline\n",
       "\t1 & Column1 & 121.465 & 0 & $\\dots$ \\\\\n",
       "\t2 & recipe\\_number & 38.6894 & 1 & $\\dots$ \\\\\n",
       "\t3 & recipe\\_code & 21773.7 & 386 & $\\dots$ \\\\\n",
       "\t4 & recipe\\_name &  & Amish Breakfast Casserole & $\\dots$ \\\\\n",
       "\t5 & comment\\_id &  & sp\\_aUSaElGf\\_100276\\_c\\_106707 & $\\dots$ \\\\\n",
       "\t6 & user\\_id &  & u\\_05PZUpOV27Pv & $\\dots$ \\\\\n",
       "\t7 & user\\_name &  & *Glow* & $\\dots$ \\\\\n",
       "\t8 & user\\_reputation & 2.15961 & 0 & $\\dots$ \\\\\n",
       "\t9 & created\\_at & 1.62371e9 & 1613035336 & $\\dots$ \\\\\n",
       "\t10 & reply\\_count & 0.0146299 & 0 & $\\dots$ \\\\\n",
       "\t11 & thumbs\\_up & 1.08926 & 0 & $\\dots$ \\\\\n",
       "\t12 & thumbs\\_down & 0.549335 & 0 & $\\dots$ \\\\\n",
       "\t13 & stars & 4.2888 & 0 & $\\dots$ \\\\\n",
       "\t14 & best\\_score & 153.162 & 0 & $\\dots$ \\\\\n",
       "\t15 & text &  &   Hi i lived in Belgium all my live and we ate leekes every day in soeps as a vegetebel, in cheese pei, we simmer the leek in butter and add some salt and pepper its just plein goed, we also ate tem because there goed for your kidneys. & $\\dots$ \\\\\n",
       "\\end{tabular}\n"
      ],
      "text/plain": [
       "\u001b[1m15×7 DataFrame\u001b[0m\n",
       "\u001b[1m Row \u001b[0m│\u001b[1m variable        \u001b[0m\u001b[1m mean      \u001b[0m\u001b[1m min                               \u001b[0m\u001b[1m median  \u001b[0m ⋯\n",
       "     │\u001b[90m Symbol          \u001b[0m\u001b[90m Union…    \u001b[0m\u001b[90m Any                               \u001b[0m\u001b[90m Union…  \u001b[0m ⋯\n",
       "─────┼──────────────────────────────────────────────────────────────────────────\n",
       "   1 │ Column1          121.465    0                                  91.0     ⋯\n",
       "   2 │ recipe_number    38.6894    1                                  33.0\n",
       "   3 │ recipe_code      21773.7    386                                14600.0\n",
       "   4 │ recipe_name     \u001b[90m           \u001b[0m Amish Breakfast Casserole         \u001b[90m         \u001b[0m\n",
       "   5 │ comment_id      \u001b[90m           \u001b[0m sp_aUSaElGf_100276_c_106707       \u001b[90m         \u001b[0m ⋯\n",
       "   6 │ user_id         \u001b[90m           \u001b[0m u_05PZUpOV27Pv                    \u001b[90m         \u001b[0m\n",
       "   7 │ user_name       \u001b[90m           \u001b[0m *Glow*                            \u001b[90m         \u001b[0m\n",
       "   8 │ user_reputation  2.15961    0                                  1.0\n",
       "   9 │ created_at       1.62371e9  1613035336                         1.62272e ⋯\n",
       "  10 │ reply_count      0.0146299  0                                  0.0\n",
       "  11 │ thumbs_up        1.08926    0                                  0.0\n",
       "  12 │ thumbs_down      0.549335   0                                  0.0\n",
       "  13 │ stars            4.2888     0                                  5.0      ⋯\n",
       "  14 │ best_score       153.162    0                                  100.0\n",
       "  15 │ text            \u001b[90m           \u001b[0m   Hi i lived in Belgium all my l… \u001b[90m         \u001b[0m\n",
       "\u001b[36m                                                               4 columns omitted\u001b[0m"
      ]
     },
     "execution_count": 5,
     "metadata": {},
     "output_type": "execute_result"
    }
   ],
   "source": [
    "path = \"dataSets/recipieData.csv\"\n",
    "df = CSV.read(path, DataFrame)\n",
    "describe(df)"
   ]
  },
  {
   "cell_type": "code",
   "execution_count": 6,
   "id": "f754ce43-dddc-4f1f-abcc-16f79ebaf393",
   "metadata": {},
   "outputs": [
    {
     "data": {
      "text/html": [
       "<div><div style = \"float: left;\"><span>0×0 DataFrame</span></div><div style = \"clear: both;\"></div></div><div class = \"data-frame\" style = \"overflow-x: scroll;\"><table class = \"data-frame\" style = \"margin-bottom: 6px;\"></table></div>"
      ],
      "text/latex": [
       "\\begin{tabular}{r|}\n",
       "\t& \\\\\n",
       "\t\\hline\n",
       "\t& \\\\\n",
       "\t\\hline\n",
       "\\end{tabular}\n"
      ],
      "text/plain": [
       "\u001b[1m0×0 DataFrame\u001b[0m"
      ]
     },
     "execution_count": 6,
     "metadata": {},
     "output_type": "execute_result"
    }
   ],
   "source": [
    "dfCleaned = select(df, Not(:Column1, :))"
   ]
  },
  {
   "cell_type": "code",
   "execution_count": 7,
   "id": "3d2e86fb-c08e-4cec-9edc-aeb387a6cae4",
   "metadata": {},
   "outputs": [
    {
     "data": {
      "text/plain": [
       "15-element Vector{String}:\n",
       " \"Column1\"\n",
       " \"recipe_number\"\n",
       " \"recipe_code\"\n",
       " \"recipe_name\"\n",
       " \"comment_id\"\n",
       " \"user_id\"\n",
       " \"user_name\"\n",
       " \"user_reputation\"\n",
       " \"created_at\"\n",
       " \"reply_count\"\n",
       " \"thumbs_up\"\n",
       " \"thumbs_down\"\n",
       " \"stars\"\n",
       " \"best_score\"\n",
       " \"text\""
      ]
     },
     "execution_count": 7,
     "metadata": {},
     "output_type": "execute_result"
    }
   ],
   "source": [
    "names(df)"
   ]
  },
  {
   "cell_type": "code",
   "execution_count": 8,
   "id": "d9897534-9783-4047-8c6f-2e5ee96a5959",
   "metadata": {},
   "outputs": [
    {
     "data": {
      "text/plain": [
       "15-element Vector{Symbol}:\n",
       " :Column1\n",
       " :recipe_number\n",
       " :recipe_code\n",
       " :recipe_name\n",
       " :comment_id\n",
       " :user_id\n",
       " :user_name\n",
       " :user_reputation\n",
       " :created_at\n",
       " :reply_count\n",
       " :thumbs_up\n",
       " :thumbs_down\n",
       " :stars\n",
       " :best_score\n",
       " :text"
      ]
     },
     "execution_count": 8,
     "metadata": {},
     "output_type": "execute_result"
    }
   ],
   "source": [
    "propertynames(df)"
   ]
  },
  {
   "cell_type": "code",
   "execution_count": 9,
   "id": "dfba295a-4e34-4957-8775-797e150cbc12",
   "metadata": {},
   "outputs": [
    {
     "data": {
      "text/plain": [
       "15-element Vector{DataType}:\n",
       " Int64\n",
       " Int64\n",
       " Int64\n",
       " String\n",
       " String\n",
       " String31\n",
       " String31\n",
       " Int64\n",
       " Int64\n",
       " Int64\n",
       " Int64\n",
       " Int64\n",
       " Int64\n",
       " Int64\n",
       " String"
      ]
     },
     "execution_count": 9,
     "metadata": {},
     "output_type": "execute_result"
    }
   ],
   "source": [
    "eltype.(eachcol(df))"
   ]
  },
  {
   "cell_type": "code",
   "execution_count": 10,
   "id": "5d0bb817-7693-441c-bc52-d4774d2094fa",
   "metadata": {},
   "outputs": [
    {
     "data": {
      "text/plain": [
       "5-element Vector{String}:\n",
       " \"recipe_name\"\n",
       " \"comment_id\"\n",
       " \"user_id\"\n",
       " \"user_name\"\n",
       " \"text\""
      ]
     },
     "execution_count": 10,
     "metadata": {},
     "output_type": "execute_result"
    }
   ],
   "source": [
    "names(df, AbstractString)"
   ]
  },
  {
   "cell_type": "code",
   "execution_count": 11,
   "id": "f11ec68b-455d-4d02-bbc5-4342401e42fd",
   "metadata": {},
   "outputs": [
    {
     "data": {
      "text/plain": [
       "(18182, 15)"
      ]
     },
     "execution_count": 11,
     "metadata": {},
     "output_type": "execute_result"
    }
   ],
   "source": [
    "size(df)"
   ]
  },
  {
   "cell_type": "code",
   "execution_count": 12,
   "id": "4072b78a-e092-4bbe-af5f-05b282e9ef88",
   "metadata": {},
   "outputs": [
    {
     "data": {
      "text/html": [
       "<div><div style = \"float: left;\"><span>15×7 DataFrame</span></div><div style = \"clear: both;\"></div></div><div class = \"data-frame\" style = \"overflow-x: scroll;\"><table class = \"data-frame\" style = \"margin-bottom: 6px;\"><thead><tr class = \"header\"><th class = \"rowNumber\" style = \"font-weight: bold; text-align: right;\">Row</th><th style = \"text-align: left;\">variable</th><th style = \"text-align: left;\">mean</th><th style = \"text-align: left;\">min</th><th style = \"text-align: left;\">median</th><th style = \"text-align: left;\">max</th><th style = \"text-align: left;\">nmissing</th><th style = \"text-align: left;\">eltype</th></tr><tr class = \"subheader headerLastRow\"><th class = \"rowNumber\" style = \"font-weight: bold; text-align: right;\"></th><th title = \"Symbol\" style = \"text-align: left;\">Symbol</th><th title = \"Union{Nothing, Float64}\" style = \"text-align: left;\">Union…</th><th title = \"Any\" style = \"text-align: left;\">Any</th><th title = \"Union{Nothing, Float64}\" style = \"text-align: left;\">Union…</th><th title = \"Any\" style = \"text-align: left;\">Any</th><th title = \"Int64\" style = \"text-align: left;\">Int64</th><th title = \"DataType\" style = \"text-align: left;\">DataType</th></tr></thead><tbody><tr><td class = \"rowNumber\" style = \"font-weight: bold; text-align: right;\">1</td><td style = \"text-align: left;\">Column1</td><td style = \"text-align: left;\">121.465</td><td style = \"text-align: left;\">0</td><td style = \"text-align: left;\">91.0</td><td style = \"text-align: left;\">724</td><td style = \"text-align: right;\">0</td><td style = \"text-align: left;\">Int64</td></tr><tr><td class = \"rowNumber\" style = \"font-weight: bold; text-align: right;\">2</td><td style = \"text-align: left;\">recipe_number</td><td style = \"text-align: left;\">38.6894</td><td style = \"text-align: left;\">1</td><td style = \"text-align: left;\">33.0</td><td style = \"text-align: left;\">100</td><td style = \"text-align: right;\">0</td><td style = \"text-align: left;\">Int64</td></tr><tr><td class = \"rowNumber\" style = \"font-weight: bold; text-align: right;\">3</td><td style = \"text-align: left;\">recipe_code</td><td style = \"text-align: left;\">21773.7</td><td style = \"text-align: left;\">386</td><td style = \"text-align: left;\">14600.0</td><td style = \"text-align: left;\">191775</td><td style = \"text-align: right;\">0</td><td style = \"text-align: left;\">Int64</td></tr><tr><td class = \"rowNumber\" style = \"font-weight: bold; text-align: right;\">4</td><td style = \"text-align: left;\">recipe_name</td><td style = \"font-style: italic; text-align: left;\"></td><td style = \"text-align: left;\">Amish Breakfast Casserole</td><td style = \"font-style: italic; text-align: left;\"></td><td style = \"text-align: left;\">Zucchini Pizza Casserole</td><td style = \"text-align: right;\">0</td><td style = \"text-align: left;\">String</td></tr><tr><td class = \"rowNumber\" style = \"font-weight: bold; text-align: right;\">5</td><td style = \"text-align: left;\">comment_id</td><td style = \"font-style: italic; text-align: left;\"></td><td style = \"text-align: left;\">sp_aUSaElGf_100276_c_106707</td><td style = \"font-style: italic; text-align: left;\"></td><td style = \"text-align: left;\">sp_aUSaElGf_9739_c_432231</td><td style = \"text-align: right;\">0</td><td style = \"text-align: left;\">String</td></tr><tr><td class = \"rowNumber\" style = \"font-weight: bold; text-align: right;\">6</td><td style = \"text-align: left;\">user_id</td><td style = \"font-style: italic; text-align: left;\"></td><td style = \"text-align: left;\">u_05PZUpOV27Pv</td><td style = \"font-style: italic; text-align: left;\"></td><td style = \"text-align: left;\">u_zwtUuezVpL60</td><td style = \"text-align: right;\">0</td><td style = \"text-align: left;\">String31</td></tr><tr><td class = \"rowNumber\" style = \"font-weight: bold; text-align: right;\">7</td><td style = \"text-align: left;\">user_name</td><td style = \"font-style: italic; text-align: left;\"></td><td style = \"text-align: left;\">*Glow*</td><td style = \"font-style: italic; text-align: left;\"></td><td style = \"text-align: left;\">zzhill</td><td style = \"text-align: right;\">0</td><td style = \"text-align: left;\">String31</td></tr><tr><td class = \"rowNumber\" style = \"font-weight: bold; text-align: right;\">8</td><td style = \"text-align: left;\">user_reputation</td><td style = \"text-align: left;\">2.15961</td><td style = \"text-align: left;\">0</td><td style = \"text-align: left;\">1.0</td><td style = \"text-align: left;\">520</td><td style = \"text-align: right;\">0</td><td style = \"text-align: left;\">Int64</td></tr><tr><td class = \"rowNumber\" style = \"font-weight: bold; text-align: right;\">9</td><td style = \"text-align: left;\">created_at</td><td style = \"text-align: left;\">1.62371e9</td><td style = \"text-align: left;\">1613035336</td><td style = \"text-align: left;\">1.62272e9</td><td style = \"text-align: left;\">1665756035</td><td style = \"text-align: right;\">0</td><td style = \"text-align: left;\">Int64</td></tr><tr><td class = \"rowNumber\" style = \"font-weight: bold; text-align: right;\">10</td><td style = \"text-align: left;\">reply_count</td><td style = \"text-align: left;\">0.0146299</td><td style = \"text-align: left;\">0</td><td style = \"text-align: left;\">0.0</td><td style = \"text-align: left;\">3</td><td style = \"text-align: right;\">0</td><td style = \"text-align: left;\">Int64</td></tr><tr><td class = \"rowNumber\" style = \"font-weight: bold; text-align: right;\">11</td><td style = \"text-align: left;\">thumbs_up</td><td style = \"text-align: left;\">1.08926</td><td style = \"text-align: left;\">0</td><td style = \"text-align: left;\">0.0</td><td style = \"text-align: left;\">106</td><td style = \"text-align: right;\">0</td><td style = \"text-align: left;\">Int64</td></tr><tr><td class = \"rowNumber\" style = \"font-weight: bold; text-align: right;\">12</td><td style = \"text-align: left;\">thumbs_down</td><td style = \"text-align: left;\">0.549335</td><td style = \"text-align: left;\">0</td><td style = \"text-align: left;\">0.0</td><td style = \"text-align: left;\">126</td><td style = \"text-align: right;\">0</td><td style = \"text-align: left;\">Int64</td></tr><tr><td class = \"rowNumber\" style = \"font-weight: bold; text-align: right;\">13</td><td style = \"text-align: left;\">stars</td><td style = \"text-align: left;\">4.2888</td><td style = \"text-align: left;\">0</td><td style = \"text-align: left;\">5.0</td><td style = \"text-align: left;\">5</td><td style = \"text-align: right;\">0</td><td style = \"text-align: left;\">Int64</td></tr><tr><td class = \"rowNumber\" style = \"font-weight: bold; text-align: right;\">14</td><td style = \"text-align: left;\">best_score</td><td style = \"text-align: left;\">153.162</td><td style = \"text-align: left;\">0</td><td style = \"text-align: left;\">100.0</td><td style = \"text-align: left;\">946</td><td style = \"text-align: right;\">0</td><td style = \"text-align: left;\">Int64</td></tr><tr><td class = \"rowNumber\" style = \"font-weight: bold; text-align: right;\">15</td><td style = \"text-align: left;\">text</td><td style = \"font-style: italic; text-align: left;\"></td><td style = \"text-align: left;\">  Hi i lived in Belgium all my live and we ate leekes every day in soeps as a vegetebel, in cheese pei, we simmer the leek in butter and add some salt and pepper its just plein goed, we also ate tem because there goed for your kidneys.</td><td style = \"font-style: italic; text-align: left;\"></td><td style = \"text-align: left;\">        </td><td style = \"text-align: right;\">0</td><td style = \"text-align: left;\">String</td></tr></tbody></table></div>"
      ],
      "text/latex": [
       "\\begin{tabular}{r|cccc}\n",
       "\t& variable & mean & min & \\\\\n",
       "\t\\hline\n",
       "\t& Symbol & Union… & Any & \\\\\n",
       "\t\\hline\n",
       "\t1 & Column1 & 121.465 & 0 & $\\dots$ \\\\\n",
       "\t2 & recipe\\_number & 38.6894 & 1 & $\\dots$ \\\\\n",
       "\t3 & recipe\\_code & 21773.7 & 386 & $\\dots$ \\\\\n",
       "\t4 & recipe\\_name &  & Amish Breakfast Casserole & $\\dots$ \\\\\n",
       "\t5 & comment\\_id &  & sp\\_aUSaElGf\\_100276\\_c\\_106707 & $\\dots$ \\\\\n",
       "\t6 & user\\_id &  & u\\_05PZUpOV27Pv & $\\dots$ \\\\\n",
       "\t7 & user\\_name &  & *Glow* & $\\dots$ \\\\\n",
       "\t8 & user\\_reputation & 2.15961 & 0 & $\\dots$ \\\\\n",
       "\t9 & created\\_at & 1.62371e9 & 1613035336 & $\\dots$ \\\\\n",
       "\t10 & reply\\_count & 0.0146299 & 0 & $\\dots$ \\\\\n",
       "\t11 & thumbs\\_up & 1.08926 & 0 & $\\dots$ \\\\\n",
       "\t12 & thumbs\\_down & 0.549335 & 0 & $\\dots$ \\\\\n",
       "\t13 & stars & 4.2888 & 0 & $\\dots$ \\\\\n",
       "\t14 & best\\_score & 153.162 & 0 & $\\dots$ \\\\\n",
       "\t15 & text &  &   Hi i lived in Belgium all my live and we ate leekes every day in soeps as a vegetebel, in cheese pei, we simmer the leek in butter and add some salt and pepper its just plein goed, we also ate tem because there goed for your kidneys. & $\\dots$ \\\\\n",
       "\\end{tabular}\n"
      ],
      "text/plain": [
       "\u001b[1m15×7 DataFrame\u001b[0m\n",
       "\u001b[1m Row \u001b[0m│\u001b[1m variable        \u001b[0m\u001b[1m mean      \u001b[0m\u001b[1m min                               \u001b[0m\u001b[1m median  \u001b[0m ⋯\n",
       "     │\u001b[90m Symbol          \u001b[0m\u001b[90m Union…    \u001b[0m\u001b[90m Any                               \u001b[0m\u001b[90m Union…  \u001b[0m ⋯\n",
       "─────┼──────────────────────────────────────────────────────────────────────────\n",
       "   1 │ Column1          121.465    0                                  91.0     ⋯\n",
       "   2 │ recipe_number    38.6894    1                                  33.0\n",
       "   3 │ recipe_code      21773.7    386                                14600.0\n",
       "   4 │ recipe_name     \u001b[90m           \u001b[0m Amish Breakfast Casserole         \u001b[90m         \u001b[0m\n",
       "   5 │ comment_id      \u001b[90m           \u001b[0m sp_aUSaElGf_100276_c_106707       \u001b[90m         \u001b[0m ⋯\n",
       "   6 │ user_id         \u001b[90m           \u001b[0m u_05PZUpOV27Pv                    \u001b[90m         \u001b[0m\n",
       "   7 │ user_name       \u001b[90m           \u001b[0m *Glow*                            \u001b[90m         \u001b[0m\n",
       "   8 │ user_reputation  2.15961    0                                  1.0\n",
       "   9 │ created_at       1.62371e9  1613035336                         1.62272e ⋯\n",
       "  10 │ reply_count      0.0146299  0                                  0.0\n",
       "  11 │ thumbs_up        1.08926    0                                  0.0\n",
       "  12 │ thumbs_down      0.549335   0                                  0.0\n",
       "  13 │ stars            4.2888     0                                  5.0      ⋯\n",
       "  14 │ best_score       153.162    0                                  100.0\n",
       "  15 │ text            \u001b[90m           \u001b[0m   Hi i lived in Belgium all my l… \u001b[90m         \u001b[0m\n",
       "\u001b[36m                                                               4 columns omitted\u001b[0m"
      ]
     },
     "execution_count": 12,
     "metadata": {},
     "output_type": "execute_result"
    }
   ],
   "source": [
    "describe(df)"
   ]
  },
  {
   "cell_type": "code",
   "execution_count": 13,
   "id": "5fa934cb-a479-4bca-869b-464b90909e06",
   "metadata": {},
   "outputs": [],
   "source": [
    "#show(df, allcols=true)"
   ]
  },
  {
   "cell_type": "code",
   "execution_count": 14,
   "id": "5ddc987f-d4bd-4c92-8a38-cdbbe9f6948e",
   "metadata": {},
   "outputs": [
    {
     "data": {
      "text/plain": [
       "4.28880211197888"
      ]
     },
     "execution_count": 14,
     "metadata": {},
     "output_type": "execute_result"
    }
   ],
   "source": [
    "mean(df.stars)"
   ]
  },
  {
   "cell_type": "code",
   "execution_count": 15,
   "id": "c50b4245-c578-43fd-bb09-3ce715980527",
   "metadata": {},
   "outputs": [],
   "source": [
    "#mapcols(id -> id .^ 2, df)"
   ]
  },
  {
   "cell_type": "code",
   "execution_count": 16,
   "id": "a140876d-1d42-464e-9beb-91bc050f9e40",
   "metadata": {},
   "outputs": [
    {
     "data": {
      "text/html": [
       "<div><div style = \"float: left;\"><span>6×15 DataFrame</span></div><div style = \"clear: both;\"></div></div><div class = \"data-frame\" style = \"overflow-x: scroll;\"><table class = \"data-frame\" style = \"margin-bottom: 6px;\"><thead><tr class = \"header\"><th class = \"rowNumber\" style = \"font-weight: bold; text-align: right;\">Row</th><th style = \"text-align: left;\">Column1</th><th style = \"text-align: left;\">recipe_number</th><th style = \"text-align: left;\">recipe_code</th><th style = \"text-align: left;\">recipe_name</th><th style = \"text-align: left;\">comment_id</th><th style = \"text-align: left;\">user_id</th><th style = \"text-align: left;\">user_name</th><th style = \"text-align: left;\">user_reputation</th><th style = \"text-align: left;\">created_at</th><th style = \"text-align: left;\">reply_count</th><th style = \"text-align: left;\">thumbs_up</th><th style = \"text-align: left;\">thumbs_down</th><th style = \"text-align: left;\">stars</th><th style = \"text-align: left;\">best_score</th><th style = \"text-align: left;\">text</th></tr><tr class = \"subheader headerLastRow\"><th class = \"rowNumber\" style = \"font-weight: bold; text-align: right;\"></th><th title = \"Int64\" style = \"text-align: left;\">Int64</th><th title = \"Int64\" style = \"text-align: left;\">Int64</th><th title = \"Int64\" style = \"text-align: left;\">Int64</th><th title = \"String\" style = \"text-align: left;\">String</th><th title = \"String\" style = \"text-align: left;\">String</th><th title = \"String31\" style = \"text-align: left;\">String31</th><th title = \"String31\" style = \"text-align: left;\">String31</th><th title = \"Int64\" style = \"text-align: left;\">Int64</th><th title = \"Int64\" style = \"text-align: left;\">Int64</th><th title = \"Int64\" style = \"text-align: left;\">Int64</th><th title = \"Int64\" style = \"text-align: left;\">Int64</th><th title = \"Int64\" style = \"text-align: left;\">Int64</th><th title = \"Int64\" style = \"text-align: left;\">Int64</th><th title = \"Int64\" style = \"text-align: left;\">Int64</th><th title = \"String\" style = \"text-align: left;\">String</th></tr></thead><tbody><tr><td class = \"rowNumber\" style = \"font-weight: bold; text-align: right;\">1</td><td style = \"text-align: right;\">0</td><td style = \"text-align: right;\">1</td><td style = \"text-align: right;\">14299</td><td style = \"text-align: left;\">Creamy White Chili</td><td style = \"text-align: left;\">sp_aUSaElGf_14299_c_2G3aneMRgRMZwXqIHmSdXSG1hEM</td><td style = \"text-align: left;\">u_9iFLIhMa8QaG</td><td style = \"text-align: left;\">Jeri326</td><td style = \"text-align: right;\">1</td><td style = \"text-align: right;\">1665619889</td><td style = \"text-align: right;\">0</td><td style = \"text-align: right;\">0</td><td style = \"text-align: right;\">0</td><td style = \"text-align: right;\">5</td><td style = \"text-align: right;\">527</td><td style = \"text-align: left;\">I tweaked it a little, removed onions because of onion haters in my house, used Italian seasoning instead of just oregano, and use a paprika/ cayenne mix and a little more than the recipe called for.. we like everything a bit more hot. The chili was amazing! It was easy to make and everyone absolutely loved it. It will now be a staple meal in our house.</td></tr><tr><td class = \"rowNumber\" style = \"font-weight: bold; text-align: right;\">2</td><td style = \"text-align: right;\">1</td><td style = \"text-align: right;\">1</td><td style = \"text-align: right;\">14299</td><td style = \"text-align: left;\">Creamy White Chili</td><td style = \"text-align: left;\">sp_aUSaElGf_14299_c_2FsPC83HtzCsQAtOxlbL6RcaPbY</td><td style = \"text-align: left;\">u_Lu6p25tmE77j</td><td style = \"text-align: left;\">Mark467</td><td style = \"text-align: right;\">50</td><td style = \"text-align: right;\">1665277687</td><td style = \"text-align: right;\">0</td><td style = \"text-align: right;\">7</td><td style = \"text-align: right;\">0</td><td style = \"text-align: right;\">5</td><td style = \"text-align: right;\">724</td><td style = \"text-align: left;\">Bush used to have a white chili bean and it made this recipe super simple. I’ve written to them and asked them to please!, bring them back</td></tr><tr><td class = \"rowNumber\" style = \"font-weight: bold; text-align: right;\">3</td><td style = \"text-align: right;\">2</td><td style = \"text-align: right;\">1</td><td style = \"text-align: right;\">14299</td><td style = \"text-align: left;\">Creamy White Chili</td><td style = \"text-align: left;\">sp_aUSaElGf_14299_c_2FPrSGyTv7PQkZq37j92r9mYGkP</td><td style = \"text-align: left;\">u_s0LwgpZ8Jsqq</td><td style = \"text-align: left;\">Barbara566</td><td style = \"text-align: right;\">10</td><td style = \"text-align: right;\">1664404557</td><td style = \"text-align: right;\">0</td><td style = \"text-align: right;\">3</td><td style = \"text-align: right;\">0</td><td style = \"text-align: right;\">5</td><td style = \"text-align: right;\">710</td><td style = \"text-align: left;\">I have a very complicated white chicken chili recipe that I have made for years. Everyone raves over it. I saw this recipe and thought I’d try it as an easy alternative for weeknights. My husband likes this recipe better! Super easy and delicious! I did cut back slightly on the crushed oregano and cayenne pepper, otherwise I made it exactly as written.</td></tr><tr><td class = \"rowNumber\" style = \"font-weight: bold; text-align: right;\">4</td><td style = \"text-align: right;\">3</td><td style = \"text-align: right;\">1</td><td style = \"text-align: right;\">14299</td><td style = \"text-align: left;\">Creamy White Chili</td><td style = \"text-align: left;\">sp_aUSaElGf_14299_c_2DzdSIgV9qNiuBaLoZ7JQaartoC</td><td style = \"text-align: left;\">u_fqrybAdYjgjG</td><td style = \"text-align: left;\">jeansch123</td><td style = \"text-align: right;\">1</td><td style = \"text-align: right;\">1661787808</td><td style = \"text-align: right;\">2</td><td style = \"text-align: right;\">2</td><td style = \"text-align: right;\">0</td><td style = \"text-align: right;\">0</td><td style = \"text-align: right;\">581</td><td style = \"text-align: left;\">In your introduction, you mentioned cream cheese but there is none listed in the ingredients!</td></tr><tr><td class = \"rowNumber\" style = \"font-weight: bold; text-align: right;\">5</td><td style = \"text-align: right;\">4</td><td style = \"text-align: right;\">1</td><td style = \"text-align: right;\">14299</td><td style = \"text-align: left;\">Creamy White Chili</td><td style = \"text-align: left;\">sp_aUSaElGf_14299_c_2DtZJuRQYeTFwXBoZRfRhBPEXjI</td><td style = \"text-align: left;\">u_XXWKwVhKZD69</td><td style = \"text-align: left;\">camper77</td><td style = \"text-align: right;\">10</td><td style = \"text-align: right;\">1664913823</td><td style = \"text-align: right;\">1</td><td style = \"text-align: right;\">7</td><td style = \"text-align: right;\">0</td><td style = \"text-align: right;\">0</td><td style = \"text-align: right;\">820</td><td style = \"text-align: left;\">Wonderful! I made this for a &amp;#34;Chili/Stew&amp;#34; night dinner at our church and everyone wanted the recipe.  We make it quite often at home and it&amp;#39;s always a hit. I also use a freshly made rotisserie chicken which adds to the flavor.</td></tr><tr><td class = \"rowNumber\" style = \"font-weight: bold; text-align: right;\">6</td><td style = \"text-align: right;\">5</td><td style = \"text-align: right;\">1</td><td style = \"text-align: right;\">14299</td><td style = \"text-align: left;\">Creamy White Chili</td><td style = \"text-align: left;\">sp_aUSaElGf_14299_c_2Do918IutExN0pWEOFMU4cbiT8v</td><td style = \"text-align: left;\">u_BALTQJIvWtYr</td><td style = \"text-align: left;\">nikhita</td><td style = \"text-align: right;\">1</td><td style = \"text-align: right;\">1661354351</td><td style = \"text-align: right;\">0</td><td style = \"text-align: right;\">3</td><td style = \"text-align: right;\">1</td><td style = \"text-align: right;\">5</td><td style = \"text-align: right;\">518</td><td style = \"text-align: left;\">amazing! my boyfriend loved it so much! going to make it again this week!</td></tr></tbody></table></div>"
      ],
      "text/latex": [
       "\\begin{tabular}{r|cccccc}\n",
       "\t& Column1 & recipe\\_number & recipe\\_code & recipe\\_name & comment\\_id & \\\\\n",
       "\t\\hline\n",
       "\t& Int64 & Int64 & Int64 & String & String & \\\\\n",
       "\t\\hline\n",
       "\t1 & 0 & 1 & 14299 & Creamy White Chili & sp\\_aUSaElGf\\_14299\\_c\\_2G3aneMRgRMZwXqIHmSdXSG1hEM & $\\dots$ \\\\\n",
       "\t2 & 1 & 1 & 14299 & Creamy White Chili & sp\\_aUSaElGf\\_14299\\_c\\_2FsPC83HtzCsQAtOxlbL6RcaPbY & $\\dots$ \\\\\n",
       "\t3 & 2 & 1 & 14299 & Creamy White Chili & sp\\_aUSaElGf\\_14299\\_c\\_2FPrSGyTv7PQkZq37j92r9mYGkP & $\\dots$ \\\\\n",
       "\t4 & 3 & 1 & 14299 & Creamy White Chili & sp\\_aUSaElGf\\_14299\\_c\\_2DzdSIgV9qNiuBaLoZ7JQaartoC & $\\dots$ \\\\\n",
       "\t5 & 4 & 1 & 14299 & Creamy White Chili & sp\\_aUSaElGf\\_14299\\_c\\_2DtZJuRQYeTFwXBoZRfRhBPEXjI & $\\dots$ \\\\\n",
       "\t6 & 5 & 1 & 14299 & Creamy White Chili & sp\\_aUSaElGf\\_14299\\_c\\_2Do918IutExN0pWEOFMU4cbiT8v & $\\dots$ \\\\\n",
       "\\end{tabular}\n"
      ],
      "text/plain": [
       "\u001b[1m6×15 DataFrame\u001b[0m\n",
       "\u001b[1m Row \u001b[0m│\u001b[1m Column1 \u001b[0m\u001b[1m recipe_number \u001b[0m\u001b[1m recipe_code \u001b[0m\u001b[1m recipe_name        \u001b[0m\u001b[1m comment_id    \u001b[0m ⋯\n",
       "     │\u001b[90m Int64   \u001b[0m\u001b[90m Int64         \u001b[0m\u001b[90m Int64       \u001b[0m\u001b[90m String             \u001b[0m\u001b[90m String        \u001b[0m ⋯\n",
       "─────┼──────────────────────────────────────────────────────────────────────────\n",
       "   1 │       0              1        14299  Creamy White Chili  sp_aUSaElGf_14 ⋯\n",
       "   2 │       1              1        14299  Creamy White Chili  sp_aUSaElGf_14\n",
       "   3 │       2              1        14299  Creamy White Chili  sp_aUSaElGf_14\n",
       "   4 │       3              1        14299  Creamy White Chili  sp_aUSaElGf_14\n",
       "   5 │       4              1        14299  Creamy White Chili  sp_aUSaElGf_14 ⋯\n",
       "   6 │       5              1        14299  Creamy White Chili  sp_aUSaElGf_14\n",
       "\u001b[36m                                                              11 columns omitted\u001b[0m"
      ]
     },
     "execution_count": 16,
     "metadata": {},
     "output_type": "execute_result"
    }
   ],
   "source": [
    "first(df, 6)"
   ]
  },
  {
   "cell_type": "code",
   "execution_count": null,
   "id": "d1930643-9db6-4b5a-9cb8-81b1f044aed5",
   "metadata": {},
   "outputs": [],
   "source": []
  },
  {
   "cell_type": "code",
   "execution_count": null,
   "id": "e1a19a58-e814-40a6-bea1-3bf26aed4e2b",
   "metadata": {},
   "outputs": [],
   "source": []
  },
  {
   "cell_type": "code",
   "execution_count": null,
   "id": "0a63a48a-6d1a-4c30-8e76-4d22263562a4",
   "metadata": {},
   "outputs": [],
   "source": []
  },
  {
   "cell_type": "code",
   "execution_count": null,
   "id": "7e7712a9-d999-4499-848d-f01d152a0eb0",
   "metadata": {},
   "outputs": [],
   "source": []
  }
 ],
 "metadata": {
  "kernelspec": {
   "display_name": "Julia 1.10.4",
   "language": "julia",
   "name": "julia-1.10"
  },
  "language_info": {
   "file_extension": ".jl",
   "mimetype": "application/julia",
   "name": "julia",
   "version": "1.10.4"
  }
 },
 "nbformat": 4,
 "nbformat_minor": 5
}
